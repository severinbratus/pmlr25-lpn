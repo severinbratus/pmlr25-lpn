{
 "cells": [
  {
   "cell_type": "markdown",
   "id": "00f812dc",
   "metadata": {},
   "source": [
    "### Task Generator Definitions"
   ]
  },
  {
   "cell_type": "code",
   "execution_count": 5,
   "id": "960852b5",
   "metadata": {},
   "outputs": [],
   "source": [
    "import numpy as np\n",
    "\n",
    "class AddNTaskGenerator:\n",
    "    def __init__(self, n, n_pairs=4, m_mod=10):\n",
    "        self.n = n\n",
    "        self.n_pairs = n_pairs\n",
    "        self.m_mod = m_mod\n",
    "\n",
    "    def generate_pair(self) -> np.ndarray:\n",
    "        x = np.random.randint(0, self.m_mod)\n",
    "        y = (x + self.n) % self.m_mod\n",
    "        return (x, y)\n",
    "    \n",
    "    def generate_task(self) -> list:\n",
    "        pairs = []\n",
    "        for _ in range(self.n_pairs):\n",
    "            while True:\n",
    "                xy = self.generate_pair()\n",
    "                if xy not in pairs:\n",
    "                    break\n",
    "            pairs.append(xy)\n",
    "        return pairs"
   ]
  },
  {
   "cell_type": "code",
   "execution_count": 7,
   "id": "d5d9f603",
   "metadata": {},
   "outputs": [
    {
     "data": {
      "text/plain": [
       "[(6526, 6529), (4100, 4103), (4663, 4666), (5079, 5082), (7830, 7833)]"
      ]
     },
     "execution_count": 7,
     "metadata": {},
     "output_type": "execute_result"
    }
   ],
   "source": [
    "add3_gen = AddNTaskGenerator(3, n_pairs=5, m_mod=2**13)\n",
    "\n",
    "add3_gen.generate_task()"
   ]
  },
  {
   "cell_type": "code",
   "execution_count": 12,
   "id": "76bf965e",
   "metadata": {},
   "outputs": [],
   "source": [
    "class ProjTaskGenerator:\n",
    "    def __init__(self, proj, n_pairs=4):\n",
    "        self.proj = proj\n",
    "        self.n_pairs = n_pairs\n",
    "    \n",
    "    def generate_pair(self) -> np.ndarray:\n",
    "        x = np.random.rand(self.proj.shape[0], self.proj.shape[0])\n",
    "        y = self.proj @ x\n",
    "        return (x, y)\n",
    "    \n",
    "    def generate_task(self) -> list:\n",
    "        pairs = [self.generate_pair() for _ in range(self.n_pairs)]\n",
    "        return pairs"
   ]
  },
  {
   "cell_type": "code",
   "execution_count": null,
   "id": "b7dbe478",
   "metadata": {},
   "outputs": [],
   "source": [
    "proj = np.random.rand(5, 5)\n",
    "proj_gen = ProjTaskGenerator(proj, n_pairs=5)\n",
    "proj_gen.generate_task()"
   ]
  },
  {
   "cell_type": "code",
   "execution_count": 21,
   "id": "d5b1801e",
   "metadata": {},
   "outputs": [],
   "source": [
    "class AffineTaskGenerator:\n",
    "    def __init__(self, a, b, d, n_pairs=4):\n",
    "        self.a = a\n",
    "        self.b = b\n",
    "        self.d = d\n",
    "        self.n_pairs = n_pairs\n",
    "    \n",
    "    def generate_pair(self) -> np.ndarray:\n",
    "        x = np.random.rand(self.d)\n",
    "        y = self.a * x + self.b\n",
    "        return (x, y)\n",
    "    \n",
    "    def generate_task(self) -> list:\n",
    "        pairs = [self.generate_pair() for _ in range(self.n_pairs)]\n",
    "        return pairs"
   ]
  },
  {
   "cell_type": "code",
   "execution_count": null,
   "id": "a7d1fdd3",
   "metadata": {},
   "outputs": [
    {
     "data": {
      "text/plain": [
       "[(array([0.41396197, 0.1737389 , 0.13506816, 0.27361507, 0.88888621]),\n",
       "  array([3.82792394, 3.34747781, 3.27013632, 3.54723015, 4.77777243])),\n",
       " (array([0.49122357, 0.87750747, 0.73392712, 0.33973896, 0.33379359]),\n",
       "  array([3.98244715, 4.75501494, 4.46785424, 3.67947793, 3.66758717])),\n",
       " (array([0.23872954, 0.18730224, 0.37169544, 0.74973343, 0.7268057 ]),\n",
       "  array([3.47745908, 3.37460448, 3.74339087, 4.49946686, 4.4536114 ])),\n",
       " (array([0.30929472, 0.75282629, 0.57553106, 0.60630394, 0.38589064]),\n",
       "  array([3.61858944, 4.50565258, 4.15106212, 4.21260789, 3.77178128]))]"
      ]
     },
     "execution_count": 33,
     "metadata": {},
     "output_type": "execute_result"
    }
   ],
   "source": [
    "aff_gen = AffineTaskGenerator(2, 3, 5, n_pairs=4)\n",
    "aff_gen.generate_task()"
   ]
  },
  {
   "cell_type": "code",
   "execution_count": 34,
   "id": "633b3ceb",
   "metadata": {},
   "outputs": [
    {
     "name": "stdout",
     "output_type": "stream",
     "text": [
      "(5, 2)\n",
      "(5, 2)\n",
      "(5, 2)\n",
      "(5, 2)\n"
     ]
    },
    {
     "data": {
      "text/plain": [
       "[array([[0.92402129, 4.84804258],\n",
       "        [0.8636112 , 4.7272224 ],\n",
       "        [0.53988548, 4.07977095],\n",
       "        [0.04638061, 3.09276121],\n",
       "        [0.38516828, 3.77033657]]),\n",
       " array([[0.72409921, 4.44819841],\n",
       "        [0.2236245 , 3.447249  ],\n",
       "        [0.64518727, 4.29037454],\n",
       "        [0.45458604, 3.90917208],\n",
       "        [0.58507326, 4.17014652]]),\n",
       " array([[0.32537193, 3.65074387],\n",
       "        [0.70893743, 4.41787486],\n",
       "        [0.52449021, 4.04898042],\n",
       "        [0.35525496, 3.71050991],\n",
       "        [0.40491259, 3.80982519]]),\n",
       " array([[0.03581688, 3.07163377],\n",
       "        [0.90302215, 4.8060443 ],\n",
       "        [0.66734353, 4.33468706],\n",
       "        [0.68698267, 4.37396533],\n",
       "        [0.27839763, 3.55679527]])]"
      ]
     },
     "execution_count": 34,
     "metadata": {},
     "output_type": "execute_result"
    }
   ],
   "source": [
    "tasks = aff_gen.generate_task()\n",
    "tensors = [np.column_stack(pair) for pair in tasks]\n",
    "for tensor in tensors:\n",
    "    print(tensor.shape)  # Check the shape of the generated\n",
    "tensors"
   ]
  },
  {
   "cell_type": "code",
   "execution_count": 36,
   "id": "f41a72b9",
   "metadata": {},
   "outputs": [
    {
     "data": {
      "text/plain": [
       "(4, 5, 2)"
      ]
     },
     "execution_count": 36,
     "metadata": {},
     "output_type": "execute_result"
    }
   ],
   "source": [
    "pairs = np.stack(tensors, axis=0)\n",
    "pairs.shape"
   ]
  },
  {
   "cell_type": "markdown",
   "id": "82dd3943",
   "metadata": {},
   "source": [
    "### Encoder"
   ]
  },
  {
   "cell_type": "code",
   "execution_count": 28,
   "id": "c3d0bc3f",
   "metadata": {},
   "outputs": [],
   "source": [
    "import torch\n",
    "import torch.nn as nn"
   ]
  },
  {
   "cell_type": "code",
   "execution_count": 54,
   "id": "a9f32e18",
   "metadata": {},
   "outputs": [
    {
     "name": "stdout",
     "output_type": "stream",
     "text": [
      "torch.Size([4, 10, 2])\n"
     ]
    },
    {
     "data": {
      "text/plain": [
       "torch.Size([4, 3])"
      ]
     },
     "execution_count": 54,
     "metadata": {},
     "output_type": "execute_result"
    }
   ],
   "source": [
    "D = 10\n",
    "N = 4\n",
    "\n",
    "shape_in = (D, 2)\n",
    "shape_lat = (3,)\n",
    "\n",
    "d_in = shape_in[0] * shape_in[1]\n",
    "d_lat = shape_lat[0]\n",
    "\n",
    "inp = torch.randn(N, D, 2)\n",
    "print(inp.shape)  # Input shape (N, D, 2)\n",
    "\n",
    "# Input shape (N*, D, 2)\n",
    "encoder = nn.Sequential(\n",
    "    nn.Flatten(),\n",
    "    nn.Linear(d_in, d_in),\n",
    "    nn.ReLU(),\n",
    "    nn.Linear(d_in, d_in // 2),\n",
    "    nn.ReLU(),\n",
    "    nn.Linear(d_in // 2, d_lat)\n",
    ")\n",
    "\n",
    "encoder(inp).shape"
   ]
  },
  {
   "cell_type": "code",
   "execution_count": 60,
   "id": "963df8b3",
   "metadata": {},
   "outputs": [
    {
     "data": {
      "text/plain": [
       "torch.Size([4, 10, 2])"
      ]
     },
     "execution_count": 60,
     "metadata": {},
     "output_type": "execute_result"
    }
   ],
   "source": [
    "a, b = 2, 3\n",
    "\n",
    "aff_gen = AffineTaskGenerator(a, b, D, n_pairs=N)\n",
    "task = aff_gen.generate_task()\n",
    "pairs = [np.column_stack(pair) for pair in task]\n",
    "pairs = np.stack(pairs, axis=0)\n",
    "pairs = torch.tensor(pairs, dtype=torch.float32)\n",
    "pairs.shape  # (N, D, 2)"
   ]
  },
  {
   "cell_type": "code",
   "execution_count": 61,
   "id": "9998b630",
   "metadata": {},
   "outputs": [
    {
     "data": {
      "text/plain": [
       "(torch.Size([4, 10, 2]), torch.Size([4, 10, 2]))"
      ]
     },
     "execution_count": 61,
     "metadata": {},
     "output_type": "execute_result"
    }
   ],
   "source": [
    "inp.shape, pairs.shape"
   ]
  },
  {
   "cell_type": "code",
   "execution_count": null,
   "id": "ddae1d8f",
   "metadata": {},
   "outputs": [
    {
     "data": {
      "text/plain": [
       "tensor([[-0.1542, -0.3179,  0.0792],\n",
       "        [-0.1456, -0.3798,  0.0660],\n",
       "        [-0.1681, -0.3738,  0.0678],\n",
       "        [-0.1783, -0.3548,  0.1058]], grad_fn=<AddmmBackward0>)"
      ]
     },
     "execution_count": 62,
     "metadata": {},
     "output_type": "execute_result"
    }
   ],
   "source": [
    "z = encoder(pairs)"
   ]
  },
  {
   "cell_type": "code",
   "execution_count": null,
   "id": "33d5e9ec",
   "metadata": {},
   "outputs": [],
   "source": [
    "class LpnLite(nn.Module):\n",
    "    def __init__(self, encoder, decoder):\n",
    "        self.encoder = encoder\n",
    "        self.decoder = decoder\n",
    "        pass\n",
    "\n",
    "    def forward(self, pairs):\n",
    "        \"\"\"\n",
    "        Args:\n",
    "            pairs. Shape (N, D, 2)\n",
    "                N: # of IO pairs per program\n",
    "                D: # of dimensions in input/output\n",
    "                2: input/output\n",
    "        \"\"\"\n",
    "        z = self.encoder(pairs)\n",
    "\n",
    "        z_prime = \n",
    "\n",
    "\n",
    "            # x = torch.tensor(x, dtype=torch.float32)\n",
    "            # y = torch.tensor(y, dtype=torch.float32)\n",
    "            # x = x.view(1, -1)\n",
    "            # y = y.view(1, -1)\n",
    "        \n",
    "\n",
    "\n",
    "        y = self.decoder(z)\n",
    "        return y        \n"
   ]
  }
 ],
 "metadata": {
  "kernelspec": {
   "display_name": "env3.10-lpn-jax",
   "language": "python",
   "name": "python3"
  },
  "language_info": {
   "codemirror_mode": {
    "name": "ipython",
    "version": 3
   },
   "file_extension": ".py",
   "mimetype": "text/x-python",
   "name": "python",
   "nbconvert_exporter": "python",
   "pygments_lexer": "ipython3",
   "version": "3.10.17"
  }
 },
 "nbformat": 4,
 "nbformat_minor": 5
}
