{
 "cells": [
  {
   "cell_type": "code",
   "execution_count": 33,
   "id": "4abcc9bb",
   "metadata": {},
   "outputs": [],
   "source": [
    "import torch\n",
    "import torch.nn as nn\n",
    "\n",
    "import numpy as np\n",
    "import copy"
   ]
  },
  {
   "cell_type": "code",
   "execution_count": 2,
   "id": "cb2c7f44",
   "metadata": {},
   "outputs": [],
   "source": [
    "import sys\n",
    "import os\n",
    "sys.path.append(os.path.abspath(os.path.join('..', 'src')))"
   ]
  },
  {
   "cell_type": "code",
   "execution_count": 3,
   "id": "7f40b1fa",
   "metadata": {},
   "outputs": [],
   "source": [
    "from sine_data_generator import SineDataGenerator"
   ]
  },
  {
   "cell_type": "code",
   "execution_count": null,
   "id": "63929244",
   "metadata": {},
   "outputs": [],
   "source": [
    "data_gen = SineDataGenerator(10, 16)\n",
    "\n",
    "inputs_np, outputs_np, amp_np, phase_np = data = data_gen.generate()\n",
    "inputs, outputs, amp, phase = [torch.Tensor(arr) for arr in data]"
   ]
  },
  {
   "cell_type": "code",
   "execution_count": 5,
   "id": "16a45581",
   "metadata": {},
   "outputs": [
    {
     "data": {
      "text/plain": [
       "(torch.Size([16, 10, 1]),\n",
       " torch.Size([16, 10, 1]),\n",
       " torch.Size([16]),\n",
       " torch.Size([16]))"
      ]
     },
     "execution_count": 5,
     "metadata": {},
     "output_type": "execute_result"
    }
   ],
   "source": [
    "inputs.shape, outputs.shape, amp.shape, phase.shape"
   ]
  },
  {
   "cell_type": "markdown",
   "id": "db281a44",
   "metadata": {},
   "source": [
    "### Modules"
   ]
  },
  {
   "cell_type": "code",
   "execution_count": null,
   "id": "0ec9ac20",
   "metadata": {},
   "outputs": [],
   "source": [
    "def relu_seq(sizes):\n",
    "    layers = []\n",
    "    d_input = sizes[0]\n",
    "\n",
    "    for d_hidden in sizes[1:-1]:\n",
    "        layers.append(nn.Linear(d_input, d_hidden))\n",
    "        layers.append(nn.ReLU())\n",
    "        d_input = d_hidden\n",
    "\n",
    "    d_output = sizes[-1]\n",
    "    layers.append(nn.Linear(d_input, d_output))  # output layer\n",
    "    return layers\n",
    "\n",
    "\n",
    "# TODO add dropout\n",
    "\n",
    "class ReluNet(nn.Module):\n",
    "    def __init__(self, *sizes):\n",
    "        super().__init__()\n",
    "        layers = relu_seq(sizes)\n",
    "        self.net = nn.Sequential(*layers)\n",
    "\n",
    "    def forward(self, x):\n",
    "        return self.net(x)\n"
   ]
  },
  {
   "cell_type": "markdown",
   "id": "3414c0d8",
   "metadata": {},
   "source": [
    "#### Encoder"
   ]
  },
  {
   "cell_type": "code",
   "execution_count": null,
   "id": "f959918d",
   "metadata": {},
   "outputs": [],
   "source": [
    "import torch\n",
    "import torch.nn as nn\n",
    "\n",
    "class IOPairSetEncoder(nn.Module):\n",
    "    \"\"\"DeepSet encoder for input-output pairs (N per batch)\"\"\"\n",
    "    def __init__(self,\n",
    "                 phi=ReluNet(2, 32, 32),\n",
    "                 rho_0=ReluNet(32, 32, 16),\n",
    "                 rho_1=ReluNet(16, 8, 3)):\n",
    "        super().__init__()\n",
    "        # Shared encoder phi\n",
    "        self.phi = phi\n",
    "        # Output processor rho\n",
    "        self.rho_0 = rho_0\n",
    "        self.rho_1 = rho_1\n",
    "        self.rho_2 = copy.deepcopy(rho_1)\n",
    "\n",
    "    def forward(self, x):\n",
    "        # x: (batch_size, N, 2)\n",
    "        x_phi = self.phi(x)                 # (batch_size, N, hidden_dim)\n",
    "        x_sum = x_phi.sum(dim=1)            # (batch_size, hidden_dim)\n",
    "        common = self.rho_0(x_sum)            # (batch_size, hidden_dim)\n",
    "        mu = self.rho_1(common)               # (batch_size, output_dim)\n",
    "        logvar = self(common)\n",
    "        return mu, logvar\n"
   ]
  },
  {
   "cell_type": "code",
   "execution_count": 8,
   "id": "19e4c29c",
   "metadata": {},
   "outputs": [
    {
     "data": {
      "text/plain": [
       "torch.Size([16, 10, 2])"
      ]
     },
     "execution_count": 8,
     "metadata": {},
     "output_type": "execute_result"
    }
   ],
   "source": [
    "io_pairs = torch.cat([inputs, outputs], dim=-1)  # (batch_size, N, 2)\n",
    "io_pairs.shape"
   ]
  },
  {
   "cell_type": "code",
   "execution_count": 9,
   "id": "43807719",
   "metadata": {},
   "outputs": [
    {
     "data": {
      "text/plain": [
       "torch.Size([16, 3])"
      ]
     },
     "execution_count": 9,
     "metadata": {},
     "output_type": "execute_result"
    }
   ],
   "source": [
    "set_encoder = IOPairSetEncoder()\n",
    "z = set_encoder(io_pairs)\n",
    "z.shape  # (batch_size, output_dim)"
   ]
  },
  {
   "cell_type": "code",
   "execution_count": 10,
   "id": "044415ac",
   "metadata": {},
   "outputs": [
    {
     "data": {
      "text/plain": [
       "IOPairSetEncoder(\n",
       "  (phi): ReluNet(\n",
       "    (net): Sequential(\n",
       "      (0): Linear(in_features=2, out_features=32, bias=True)\n",
       "      (1): ReLU()\n",
       "      (2): Linear(in_features=32, out_features=32, bias=True)\n",
       "    )\n",
       "  )\n",
       "  (rho): ReluNet(\n",
       "    (net): Sequential(\n",
       "      (0): Linear(in_features=32, out_features=32, bias=True)\n",
       "      (1): ReLU()\n",
       "      (2): Linear(in_features=32, out_features=3, bias=True)\n",
       "    )\n",
       "  )\n",
       ")"
      ]
     },
     "execution_count": 10,
     "metadata": {},
     "output_type": "execute_result"
    }
   ],
   "source": [
    "set_encoder"
   ]
  },
  {
   "cell_type": "markdown",
   "id": "99c07749",
   "metadata": {},
   "source": [
    "#### Decoder"
   ]
  },
  {
   "cell_type": "code",
   "execution_count": null,
   "id": "7402bcfb",
   "metadata": {},
   "outputs": [],
   "source": [
    "class Decoder(ReluNet):\n",
    "    # TODO add a batchnorm\n",
    "\n",
    "    def __init__(self, d_input=1, d_latent=3, ds_hidden=[32, 32], d_output=1):\n",
    "        sizes = [d_latent + d_input] + ds_hidden + [d_output]\n",
    "        super().__init__(*sizes)\n",
    "        self.d_input = d_input\n",
    "        self.d_latent = d_latent\n",
    "        self.d_output = d_output\n"
   ]
  },
  {
   "cell_type": "code",
   "execution_count": 12,
   "id": "836f599d",
   "metadata": {},
   "outputs": [
    {
     "data": {
      "text/plain": [
       "(torch.Size([16, 3]), torch.Size([16, 10, 1]))"
      ]
     },
     "execution_count": 12,
     "metadata": {},
     "output_type": "execute_result"
    }
   ],
   "source": [
    "z.shape, inputs.shape"
   ]
  },
  {
   "cell_type": "code",
   "execution_count": 13,
   "id": "fbdab079",
   "metadata": {},
   "outputs": [
    {
     "data": {
      "text/plain": [
       "torch.Size([16, 1])"
      ]
     },
     "execution_count": 13,
     "metadata": {},
     "output_type": "execute_result"
    }
   ],
   "source": [
    "input_0 = inputs[:, 0, :]  # (batch_size, d_input)\n",
    "input_0.shape"
   ]
  },
  {
   "cell_type": "code",
   "execution_count": 14,
   "id": "4303137e",
   "metadata": {},
   "outputs": [
    {
     "data": {
      "text/plain": [
       "torch.Size([16, 10, 4])"
      ]
     },
     "execution_count": 14,
     "metadata": {},
     "output_type": "execute_result"
    }
   ],
   "source": [
    "z_expanded = z.unsqueeze(1).expand(-1, inputs.size(1), -1)\n",
    "z_inputs = torch.cat([z_expanded, inputs], axis=-1)\n",
    "z_inputs.shape"
   ]
  },
  {
   "cell_type": "code",
   "execution_count": 15,
   "id": "fc3c84b6",
   "metadata": {},
   "outputs": [
    {
     "data": {
      "text/plain": [
       "Decoder(\n",
       "  (net): Sequential(\n",
       "    (0): Linear(in_features=4, out_features=32, bias=True)\n",
       "    (1): ReLU()\n",
       "    (2): Linear(in_features=32, out_features=32, bias=True)\n",
       "    (3): ReLU()\n",
       "    (4): Linear(in_features=32, out_features=1, bias=True)\n",
       "  )\n",
       ")"
      ]
     },
     "execution_count": 15,
     "metadata": {},
     "output_type": "execute_result"
    }
   ],
   "source": [
    "decoder = Decoder()\n",
    "decoder"
   ]
  },
  {
   "cell_type": "code",
   "execution_count": 16,
   "id": "ecc27e25",
   "metadata": {},
   "outputs": [
    {
     "data": {
      "text/plain": [
       "torch.Size([16, 10, 1])"
      ]
     },
     "execution_count": 16,
     "metadata": {},
     "output_type": "execute_result"
    }
   ],
   "source": [
    "decoder(z_inputs).shape"
   ]
  },
  {
   "cell_type": "markdown",
   "id": "efc239cd",
   "metadata": {},
   "source": [
    "### Utils"
   ]
  },
  {
   "cell_type": "code",
   "execution_count": 34,
   "id": "720fc70c",
   "metadata": {},
   "outputs": [],
   "source": [
    "def make_leave_one_out(array: torch.Tensor, axis: int) -> torch.Tensor:\n",
    "    \"\"\"\n",
    "    Args:\n",
    "        array: Tensor of shape (*B, N, *H).\n",
    "        axis: The axis where N appears.\n",
    "\n",
    "    Returns:\n",
    "        Tensor of shape (*B, N, N-1, *H).\n",
    "    \"\"\"\n",
    "    axis = axis % array.ndim\n",
    "    n = array.size(axis)\n",
    "    output = []\n",
    "\n",
    "    for i in range(n):\n",
    "        array_before = array.narrow(axis, 0, i)\n",
    "        array_after = array.narrow(axis, i + 1, n - i - 1)\n",
    "        sliced = torch.cat([array_before, array_after], dim=axis)\n",
    "        output.append(sliced)\n",
    "\n",
    "    output = torch.stack(output, dim=axis)\n",
    "    return output"
   ]
  },
  {
   "cell_type": "code",
   "execution_count": 35,
   "id": "c463909b",
   "metadata": {},
   "outputs": [
    {
     "name": "stdout",
     "output_type": "stream",
     "text": [
      "Original shape: torch.Size([4, 5, 6])\n",
      "Leave-one-out shape: torch.Size([4, 5, 4, 6])\n"
     ]
    }
   ],
   "source": [
    "# Create a random tensor\n",
    "random_array = torch.randn(4, 5, 6)  # Example shape (4, 5, 6)\n",
    "\n",
    "# Apply the make_leave_one_out function\n",
    "leave_one_out_result = make_leave_one_out(random_array, axis=1)\n",
    "\n",
    "# Print the shapes to verify\n",
    "print(\"Original shape:\", random_array.shape)\n",
    "print(\"Leave-one-out shape:\", leave_one_out_result.shape)"
   ]
  },
  {
   "cell_type": "code",
   "execution_count": 38,
   "id": "44a1f227",
   "metadata": {},
   "outputs": [
    {
     "data": {
      "text/plain": [
       "tensor([[-1.2035,  0.7266,  0.9145, -0.0743, -0.1955,  1.3383],\n",
       "        [ 0.1514,  0.4020,  0.2766,  0.5511,  0.1775, -0.0041],\n",
       "        [ 0.8557, -0.1617,  0.7642,  1.0259,  0.7809, -1.2670],\n",
       "        [-0.2485,  0.2778, -2.4740,  0.0849, -0.2568,  1.4575],\n",
       "        [ 0.0082, -0.4130,  0.6050, -0.7613, -0.5642,  0.2237]])"
      ]
     },
     "execution_count": 38,
     "metadata": {},
     "output_type": "execute_result"
    }
   ],
   "source": [
    "random_array[0, :, :]"
   ]
  },
  {
   "cell_type": "code",
   "execution_count": 36,
   "id": "afa3e668",
   "metadata": {},
   "outputs": [
    {
     "data": {
      "text/plain": [
       "tensor([[ 0.1514,  0.4020,  0.2766,  0.5511,  0.1775, -0.0041],\n",
       "        [ 0.8557, -0.1617,  0.7642,  1.0259,  0.7809, -1.2670],\n",
       "        [-0.2485,  0.2778, -2.4740,  0.0849, -0.2568,  1.4575],\n",
       "        [ 0.0082, -0.4130,  0.6050, -0.7613, -0.5642,  0.2237]])"
      ]
     },
     "execution_count": 36,
     "metadata": {},
     "output_type": "execute_result"
    }
   ],
   "source": [
    "leave_one_out_result[0, 0, :, :]"
   ]
  },
  {
   "cell_type": "markdown",
   "id": "d2861175",
   "metadata": {},
   "source": [
    "### [WIP] LPN"
   ]
  },
  {
   "cell_type": "code",
   "execution_count": null,
   "id": "94023d61",
   "metadata": {},
   "outputs": [],
   "source": [
    "class LPN(nn.Module):\n",
    "    def __init__(self,\n",
    "                 d_input,\n",
    "                 d_output,\n",
    "                 d_latent,\n",
    "                 encoder\n",
    "                 decoder):\n",
    "        super().__init__()\n",
    "        self.d_input = d_input\n",
    "        self.d_output = d_output\n",
    "        self.d_latent = d_latent\n",
    "        self.encoder = encoder\n",
    "        self.decoder = decoder\n",
    "\n",
    "    def forward(self, pairs):\n",
    "        # pairs: (batch_size, N, d_input, 2)\n",
    "        # Note: assuming d_input = d_output\n",
    "        # pairs_leave_one_out: (batch_size, N, N-1, d_input, 2)\n",
    "        pairs_leave_one_out = make_leave_one_out(pairs, axis=1)\n",
    "\n",
    "        # Encoder\n",
    "        # z_mu, z_logvar: (batch_size, N, d_latent)\n",
    "        z_mu, z_logvar = self.encoder(pairs_leave_one_out)\n",
    "\n",
    "        assert z_mu.shape == z_logvar.shape\n",
    "        assert z_mu.shape == (pairs.size(0), pairs.size(1), self.d_latent)\n",
    "\n",
    "        \n",
    "\n",
    "        "
   ]
  },
  {
   "cell_type": "markdown",
   "id": "b8440add",
   "metadata": {},
   "source": [
    "### [WIP] Algorithm 1: LPN Test-Time Inference w. GA Latent Opt"
   ]
  },
  {
   "cell_type": "code",
   "execution_count": null,
   "id": "b0b74b55",
   "metadata": {},
   "outputs": [],
   "source": [
    "# Input\n",
    "data_gen = SineDataGenerator(10, 16)\n",
    "inputs, outputs, amp, phase = [torch.Tensor(arr) for arr in data_gen.generate()]\n",
    "# Context: n=10 input-output pairs (x_i, y_i)\n",
    "ctx_inputs = inputs[:, :-1, :]\n",
    "ctx_outputs = outputs[:, :-1, :]\n",
    "# Test input x_{n+1}\n",
    "test_inputs = inputs[:, -1, :].unsqueeze(1)\n",
    "test_outputs = outputs[:, -1, :].unsqueeze(1)\n",
    "# number of gradient steps\n",
    "K = 7\n",
    "D_LATENT = 3\n",
    "alpha = 0.1"
   ]
  },
  {
   "cell_type": "code",
   "execution_count": 22,
   "id": "e0119b0c",
   "metadata": {},
   "outputs": [
    {
     "data": {
      "text/plain": [
       "(torch.Size([16, 9, 1]),\n",
       " torch.Size([16, 9, 1]),\n",
       " torch.Size([16, 1, 1]),\n",
       " torch.Size([16, 1, 1]))"
      ]
     },
     "execution_count": 22,
     "metadata": {},
     "output_type": "execute_result"
    }
   ],
   "source": [
    "ctx_inputs.shape, ctx_outputs.shape, test_inputs.shape, test_outputs.shape"
   ]
  },
  {
   "cell_type": "code",
   "execution_count": 26,
   "id": "217fcf45",
   "metadata": {},
   "outputs": [],
   "source": [
    "# Init encoder-decoder\n",
    "encoder = IOPairSetEncoder(phi=ReluNet(2, 32, 32), rho=ReluNet(32, 32, D_LATENT))\n",
    "decoder = Decoder(d_input=1, d_latent=D_LATENT, ds_hidden=[32, 32], d_output=1)"
   ]
  },
  {
   "cell_type": "code",
   "execution_count": 32,
   "id": "91f80317",
   "metadata": {},
   "outputs": [
    {
     "data": {
      "text/plain": [
       "torch.Size([16, 3])"
      ]
     },
     "execution_count": 32,
     "metadata": {},
     "output_type": "execute_result"
    }
   ],
   "source": [
    "io_pairs = torch.cat([ctx_inputs, ctx_outputs], dim=-1)  # (batch_size, N, 2)\n",
    "z_prime = z_prime_0 = encoder(io_pairs)\n",
    "z_prime_0.shape  # (batch_size, d_latent)"
   ]
  },
  {
   "cell_type": "code",
   "execution_count": null,
   "id": "926a0d09",
   "metadata": {},
   "outputs": [],
   "source": [
    "# for k in range(K):\n",
    "#     z_prime += alpha * "
   ]
  },
  {
   "cell_type": "code",
   "execution_count": 28,
   "id": "b4b118ae",
   "metadata": {},
   "outputs": [
    {
     "data": {
      "text/plain": [
       "IOPairSetEncoder(\n",
       "  (phi): ReluNet(\n",
       "    (net): Sequential(\n",
       "      (0): Linear(in_features=2, out_features=32, bias=True)\n",
       "      (1): ReLU()\n",
       "      (2): Linear(in_features=32, out_features=32, bias=True)\n",
       "    )\n",
       "  )\n",
       "  (rho): ReluNet(\n",
       "    (net): Sequential(\n",
       "      (0): Linear(in_features=32, out_features=32, bias=True)\n",
       "      (1): ReLU()\n",
       "      (2): Linear(in_features=32, out_features=3, bias=True)\n",
       "    )\n",
       "  )\n",
       ")"
      ]
     },
     "execution_count": 28,
     "metadata": {},
     "output_type": "execute_result"
    }
   ],
   "source": [
    "encoder"
   ]
  },
  {
   "cell_type": "code",
   "execution_count": 30,
   "id": "d3edebf3",
   "metadata": {},
   "outputs": [
    {
     "data": {
      "text/plain": [
       "torch.Size([16, 9, 1])"
      ]
     },
     "execution_count": 30,
     "metadata": {},
     "output_type": "execute_result"
    }
   ],
   "source": [
    "ctx_inputs.shape"
   ]
  },
  {
   "cell_type": "markdown",
   "id": "01264fc7",
   "metadata": {},
   "source": [
    "### Plotting"
   ]
  },
  {
   "cell_type": "code",
   "execution_count": 18,
   "id": "6cb1d618",
   "metadata": {},
   "outputs": [
    {
     "data": {
      "image/png": "[encoded data removed]",
      "text/plain": [
       "<Figure size 640x480 with 1 Axes>"
      ]
     },
     "metadata": {},
     "output_type": "display_data"
    }
   ],
   "source": [
    "import matplotlib.pyplot as plt\n",
    "\n",
    "# Plot each set of inputs and outputs as a separate line\n",
    "for i in range(min(2, inputs_np.shape[0])):\n",
    "    x = np.linspace(-2 * np.pi, 2 * np.pi, 100)\n",
    "    y = amp_np[i] * np.sin(x - phase_np[i])\n",
    "    plt.plot(x, y, label=f\"ground-truth #{i}\")\n",
    "    plt.scatter(inputs_np[i], outputs_np[i], marker='s', label=f\"samples #{i}\")\n",
    "    # plt.plot(init_inputs[i], outputs[i], label=f\"Line {i+1}\")\n",
    "\n",
    "plt.xlabel(\"Inputs x\")\n",
    "plt.ylabel(\"Outputs y\")\n",
    "# plt.title(\"Outputs vs Inputs\")\n",
    "plt.legend()\n",
    "plt.show()"
   ]
  }
 ],
 "metadata": {
  "kernelspec": {
   "display_name": "env3.12-lpn-pt",
   "language": "python",
   "name": "python3"
  },
  "language_info": {
   "codemirror_mode": {
    "name": "ipython",
    "version": 3
   },
   "file_extension": ".py",
   "mimetype": "text/x-python",
   "name": "python",
   "nbconvert_exporter": "python",
   "pygments_lexer": "ipython3",
   "version": "3.12.10"
  }
 },
 "nbformat": 4,
 "nbformat_minor": 5
}
