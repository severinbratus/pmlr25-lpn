{
 "cells": [
  {
   "cell_type": "code",
   "execution_count": 1,
   "id": "4abcc9bb",
   "metadata": {},
   "outputs": [],
   "source": [
    "import torch\n",
    "import torch.nn as nn\n",
    "\n",
    "import numpy as np\n",
    "import copy"
   ]
  },
  {
   "cell_type": "code",
   "execution_count": 2,
   "id": "cb2c7f44",
   "metadata": {},
   "outputs": [],
   "source": [
    "import sys\n",
    "import os\n",
    "sys.path.append(os.path.abspath(os.path.join('..', 'src')))"
   ]
  },
  {
   "cell_type": "code",
   "execution_count": 48,
   "id": "7f40b1fa",
   "metadata": {},
   "outputs": [],
   "source": [
    "import importlib\n",
    "import sine_data_generator\n",
    "\n",
    "importlib.reload(sine_data_generator)\n",
    "from sine_data_generator import SineDataGenerator"
   ]
  },
  {
   "cell_type": "code",
   "execution_count": null,
   "id": "63929244",
   "metadata": {},
   "outputs": [],
   "source": [
    "data_gen = SineDataGenerator(10, 16)\n",
    "\n",
    "inputs_np, outputs_np, amp_np, phase_np = data = data_gen.generate()\n",
    "inputs, outputs_pred, amp, phase = [torch.Tensor(arr) for arr in data]"
   ]
  },
  {
   "cell_type": "code",
   "execution_count": null,
   "id": "16a45581",
   "metadata": {},
   "outputs": [
    {
     "data": {
      "text/plain": [
       "(torch.Size([16, 10, 1]),\n",
       " torch.Size([16, 10, 1]),\n",
       " torch.Size([16]),\n",
       " torch.Size([16]))"
      ]
     },
     "execution_count": 5,
     "metadata": {},
     "output_type": "execute_result"
    }
   ],
   "source": [
    "inputs.shape, outputs_pred.shape, amp.shape, phase.shape"
   ]
  },
  {
   "cell_type": "markdown",
   "id": "db281a44",
   "metadata": {},
   "source": [
    "### Modules"
   ]
  },
  {
   "cell_type": "code",
   "execution_count": 6,
   "id": "0ec9ac20",
   "metadata": {},
   "outputs": [],
   "source": [
    "def relu_seq(sizes):\n",
    "    layers = []\n",
    "    d_input = sizes[0]\n",
    "\n",
    "    for d_hidden in sizes[1:-1]:\n",
    "        layers.append(nn.Linear(d_input, d_hidden))\n",
    "        layers.append(nn.ReLU())\n",
    "        d_input = d_hidden\n",
    "\n",
    "    d_output = sizes[-1]\n",
    "    layers.append(nn.Linear(d_input, d_output))  # output layer\n",
    "    return layers\n",
    "\n",
    "\n",
    "# TODO add dropout\n",
    "\n",
    "class ReluNet(nn.Module):\n",
    "    def __init__(self, *sizes):\n",
    "        super().__init__()\n",
    "        layers = relu_seq(sizes)\n",
    "        self.net = nn.Sequential(*layers)\n",
    "\n",
    "    def forward(self, x):\n",
    "        return self.net(x)\n"
   ]
  },
  {
   "cell_type": "markdown",
   "id": "3414c0d8",
   "metadata": {},
   "source": [
    "#### Encoder"
   ]
  },
  {
   "cell_type": "code",
   "execution_count": 60,
   "id": "f959918d",
   "metadata": {},
   "outputs": [],
   "source": [
    "import torch\n",
    "import torch.nn as nn\n",
    "\n",
    "class IOPairSetEncoder(nn.Module):\n",
    "    \"\"\"DeepSet encoder for input-output pairs (N per batch)\"\"\"\n",
    "    def __init__(self,\n",
    "                 phi=ReluNet(2, 32, 32),\n",
    "                 rho_0=ReluNet(32, 32, 16),\n",
    "                 rho_1=ReluNet(16, 8, 3)):\n",
    "        super().__init__()\n",
    "        # Shared encoder phi\n",
    "        self.phi = phi\n",
    "        # Output processor rho\n",
    "        self.rho_0 = rho_0\n",
    "        self.rho_1 = rho_1\n",
    "        self.rho_2 = copy.deepcopy(rho_1)\n",
    "\n",
    "    def forward(self, x):\n",
    "        # x: (B*, N, 2)\n",
    "        x_phi = self.phi(x)                 # (B*, N, H)\n",
    "        # sum over the N-axis (sum set elements' representations)\n",
    "        x_sum = x_phi.sum(dim=-2)            # (B*, H)\n",
    "        common = self.rho_0(x_sum)            # (B*, H)\n",
    "        mu = self.rho_1(common)               # (B*, H)\n",
    "        logvar = self.rho_2(common)\n",
    "        return mu, logvar\n"
   ]
  },
  {
   "cell_type": "code",
   "execution_count": null,
   "id": "19e4c29c",
   "metadata": {},
   "outputs": [
    {
     "data": {
      "text/plain": [
       "torch.Size([16, 10, 2])"
      ]
     },
     "execution_count": 8,
     "metadata": {},
     "output_type": "execute_result"
    }
   ],
   "source": [
    "io_pairs = torch.cat([inputs, outputs_pred], dim=-1)  # (batch_size, N, 2)\n",
    "io_pairs.shape"
   ]
  },
  {
   "cell_type": "code",
   "execution_count": null,
   "id": "43807719",
   "metadata": {},
   "outputs": [
    {
     "data": {
      "text/plain": [
       "torch.Size([16, 3])"
      ]
     },
     "execution_count": 14,
     "metadata": {},
     "output_type": "execute_result"
    }
   ],
   "source": [
    "set_encoder = IOPairSetEncoder()\n",
    "z_mu, z_logvar = set_encoder(io_pairs)\n",
    "z_sample = z_mu\n",
    "z_sample.shape  # (batch_size, output_dim)"
   ]
  },
  {
   "cell_type": "code",
   "execution_count": 11,
   "id": "044415ac",
   "metadata": {},
   "outputs": [
    {
     "data": {
      "text/plain": [
       "IOPairSetEncoder(\n",
       "  (phi): ReluNet(\n",
       "    (net): Sequential(\n",
       "      (0): Linear(in_features=2, out_features=32, bias=True)\n",
       "      (1): ReLU()\n",
       "      (2): Linear(in_features=32, out_features=32, bias=True)\n",
       "    )\n",
       "  )\n",
       "  (rho_0): ReluNet(\n",
       "    (net): Sequential(\n",
       "      (0): Linear(in_features=32, out_features=32, bias=True)\n",
       "      (1): ReLU()\n",
       "      (2): Linear(in_features=32, out_features=16, bias=True)\n",
       "    )\n",
       "  )\n",
       "  (rho_1): ReluNet(\n",
       "    (net): Sequential(\n",
       "      (0): Linear(in_features=16, out_features=8, bias=True)\n",
       "      (1): ReLU()\n",
       "      (2): Linear(in_features=8, out_features=3, bias=True)\n",
       "    )\n",
       "  )\n",
       "  (rho_2): ReluNet(\n",
       "    (net): Sequential(\n",
       "      (0): Linear(in_features=16, out_features=8, bias=True)\n",
       "      (1): ReLU()\n",
       "      (2): Linear(in_features=8, out_features=3, bias=True)\n",
       "    )\n",
       "  )\n",
       ")"
      ]
     },
     "execution_count": 11,
     "metadata": {},
     "output_type": "execute_result"
    }
   ],
   "source": [
    "set_encoder"
   ]
  },
  {
   "cell_type": "markdown",
   "id": "99c07749",
   "metadata": {},
   "source": [
    "#### Decoder"
   ]
  },
  {
   "cell_type": "code",
   "execution_count": 41,
   "id": "7402bcfb",
   "metadata": {},
   "outputs": [],
   "source": [
    "class Decoder(ReluNet):\n",
    "    # TODO add a batchnorm\n",
    "\n",
    "    def __init__(self, d_input=1, d_latent=3, ds_hidden=[32, 32], d_output=1):\n",
    "        sizes = [d_latent + d_input] + ds_hidden + [d_output]\n",
    "        super().__init__(*sizes)\n",
    "        self.d_input = d_input\n",
    "        self.d_latent = d_latent\n",
    "        self.d_output = d_output\n"
   ]
  },
  {
   "cell_type": "code",
   "execution_count": null,
   "id": "836f599d",
   "metadata": {},
   "outputs": [
    {
     "data": {
      "text/plain": [
       "(torch.Size([16, 3]), torch.Size([16, 10, 1]))"
      ]
     },
     "execution_count": 16,
     "metadata": {},
     "output_type": "execute_result"
    }
   ],
   "source": [
    "z_sample.shape, inputs.shape"
   ]
  },
  {
   "cell_type": "code",
   "execution_count": 17,
   "id": "fbdab079",
   "metadata": {},
   "outputs": [
    {
     "data": {
      "text/plain": [
       "torch.Size([16, 1])"
      ]
     },
     "execution_count": 17,
     "metadata": {},
     "output_type": "execute_result"
    }
   ],
   "source": [
    "input_0 = inputs[:, 0, :]  # (batch_size, d_input)\n",
    "input_0.shape"
   ]
  },
  {
   "cell_type": "code",
   "execution_count": null,
   "id": "4303137e",
   "metadata": {},
   "outputs": [
    {
     "data": {
      "text/plain": [
       "torch.Size([16, 10, 4])"
      ]
     },
     "execution_count": 18,
     "metadata": {},
     "output_type": "execute_result"
    }
   ],
   "source": [
    "z_expanded = z_sample.unsqueeze(1).expand(-1, inputs.size(1), -1)\n",
    "z_inputs = torch.cat([z_expanded, inputs], axis=-1)\n",
    "z_inputs.shape"
   ]
  },
  {
   "cell_type": "code",
   "execution_count": 19,
   "id": "fc3c84b6",
   "metadata": {},
   "outputs": [
    {
     "data": {
      "text/plain": [
       "Decoder(\n",
       "  (net): Sequential(\n",
       "    (0): Linear(in_features=4, out_features=32, bias=True)\n",
       "    (1): ReLU()\n",
       "    (2): Linear(in_features=32, out_features=32, bias=True)\n",
       "    (3): ReLU()\n",
       "    (4): Linear(in_features=32, out_features=1, bias=True)\n",
       "  )\n",
       ")"
      ]
     },
     "execution_count": 19,
     "metadata": {},
     "output_type": "execute_result"
    }
   ],
   "source": [
    "decoder = Decoder()\n",
    "decoder"
   ]
  },
  {
   "cell_type": "code",
   "execution_count": 20,
   "id": "ecc27e25",
   "metadata": {},
   "outputs": [
    {
     "data": {
      "text/plain": [
       "torch.Size([16, 10, 1])"
      ]
     },
     "execution_count": 20,
     "metadata": {},
     "output_type": "execute_result"
    }
   ],
   "source": [
    "decoder(z_inputs).shape"
   ]
  },
  {
   "cell_type": "markdown",
   "id": "efc239cd",
   "metadata": {},
   "source": [
    "### Utils"
   ]
  },
  {
   "cell_type": "code",
   "execution_count": 21,
   "id": "720fc70c",
   "metadata": {},
   "outputs": [],
   "source": [
    "def make_leave_one_out(array: torch.Tensor, axis: int) -> torch.Tensor:\n",
    "    \"\"\"\n",
    "    Args:\n",
    "        array: Tensor of shape (*B, N, *H).\n",
    "        axis: The axis where N appears.\n",
    "\n",
    "    Returns:\n",
    "        Tensor of shape (*B, N, N-1, *H).\n",
    "    \"\"\"\n",
    "    axis = axis % array.ndim\n",
    "    n = array.size(axis)\n",
    "    output = []\n",
    "\n",
    "    for i in range(n):\n",
    "        array_before = array.narrow(axis, 0, i)\n",
    "        array_after = array.narrow(axis, i + 1, n - i - 1)\n",
    "        sliced = torch.cat([array_before, array_after], dim=axis)\n",
    "        output.append(sliced)\n",
    "\n",
    "    output = torch.stack(output, dim=axis)\n",
    "    return output"
   ]
  },
  {
   "cell_type": "code",
   "execution_count": 22,
   "id": "c463909b",
   "metadata": {},
   "outputs": [
    {
     "name": "stdout",
     "output_type": "stream",
     "text": [
      "Original shape: torch.Size([4, 5, 6])\n",
      "Leave-one-out shape: torch.Size([4, 5, 4, 6])\n"
     ]
    }
   ],
   "source": [
    "# Create a random tensor\n",
    "random_array = torch.randn(4, 5, 6)  # Example shape (4, 5, 6)\n",
    "\n",
    "# Apply the make_leave_one_out function\n",
    "leave_one_out_result = make_leave_one_out(random_array, axis=1)\n",
    "\n",
    "# Print the shapes to verify\n",
    "print(\"Original shape:\", random_array.shape)\n",
    "print(\"Leave-one-out shape:\", leave_one_out_result.shape)"
   ]
  },
  {
   "cell_type": "code",
   "execution_count": 23,
   "id": "44a1f227",
   "metadata": {},
   "outputs": [
    {
     "data": {
      "text/plain": [
       "tensor([[-0.9767, -0.9691,  0.2880,  1.5877, -1.8979, -0.9450],\n",
       "        [-0.8386,  0.9660,  0.9943, -0.8892,  0.3971, -1.3858],\n",
       "        [-0.1369,  1.0822, -0.2521, -0.5015, -0.6334,  0.5998],\n",
       "        [-0.7034,  0.2850,  0.0996, -0.0052,  0.1695, -0.0488],\n",
       "        [-0.9866,  1.1247,  0.1873, -0.6212,  1.0650,  0.6567]])"
      ]
     },
     "execution_count": 23,
     "metadata": {},
     "output_type": "execute_result"
    }
   ],
   "source": [
    "random_array[0, :, :]"
   ]
  },
  {
   "cell_type": "code",
   "execution_count": 24,
   "id": "afa3e668",
   "metadata": {},
   "outputs": [
    {
     "data": {
      "text/plain": [
       "tensor([[-0.8386,  0.9660,  0.9943, -0.8892,  0.3971, -1.3858],\n",
       "        [-0.1369,  1.0822, -0.2521, -0.5015, -0.6334,  0.5998],\n",
       "        [-0.7034,  0.2850,  0.0996, -0.0052,  0.1695, -0.0488],\n",
       "        [-0.9866,  1.1247,  0.1873, -0.6212,  1.0650,  0.6567]])"
      ]
     },
     "execution_count": 24,
     "metadata": {},
     "output_type": "execute_result"
    }
   ],
   "source": [
    "leave_one_out_result[0, 0, :, :]"
   ]
  },
  {
   "cell_type": "markdown",
   "id": "d2861175",
   "metadata": {},
   "source": [
    "### [WIP] LPN"
   ]
  },
  {
   "cell_type": "code",
   "execution_count": null,
   "id": "94023d61",
   "metadata": {},
   "outputs": [],
   "source": [
    "class LPN(nn.Module):\n",
    "    def __init__(self,\n",
    "                 d_input,\n",
    "                 d_output,\n",
    "                 d_latent,\n",
    "                 encoder,\n",
    "                 decoder,\n",
    "                 alpha=4e-4,\n",
    "                 beta=1e-3,\n",
    "                 loss_fn=nn.MSELoss()):\n",
    "        \"\"\"\n",
    "        Args:\n",
    "            d_input: Input dimension.\n",
    "            d_output: Output dimension.\n",
    "            d_latent: Latent dimension.\n",
    "            encoder: Encoder module (e.g., IOPairSetEncoder).\n",
    "            decoder: Decoder module (e.g., Decoder).\n",
    "            alpha: Step size or learning rate in inner latent optimization.\n",
    "            beta: \"Prior KL Coeff\". Weight for the KL divergence term.\n",
    "        \"\"\"\n",
    "        super().__init__()\n",
    "        self.d_input = d_input\n",
    "        self.d_output = d_output\n",
    "        assert self.d_input == self.d_output == 1, \"Unsupported d_input or d_output\"\n",
    "        self.d_latent = d_latent\n",
    "        self.encoder = encoder\n",
    "        self.decoder = decoder\n",
    "        self.alpha = alpha\n",
    "        self.beta = beta\n",
    "        self.mse = nn.MSELoss()\n",
    "\n",
    "\n",
    "    def forward(self, pairs):\n",
    "\n",
    "        # pairs: (B, N, 2)\n",
    "        # Note: assuming d_input = d_output = 1\n",
    "        # pairs_one_left_out: (B, N, N-1, 2)\n",
    "        ## print(f\"{pairs.shape=}\")\n",
    "        pairs_one_left_out = make_leave_one_out(pairs, axis=1)\n",
    "        ## print(f\"{pairs_one_left_out.shape=}\")\n",
    "\n",
    "        # Encode the context IO pairs (one-left-out) into a latent\n",
    "        # z_mu, z_logvar: (B, N, H)\n",
    "        z_mu, z_logvar = self.encoder(pairs_one_left_out)\n",
    "        ## print(f\"{z_mu.shape=}\")\n",
    "\n",
    "        assert z_mu.shape == z_logvar.shape\n",
    "        b, n = pairs.size(0), pairs.size(1)\n",
    "        assert z_mu.shape == (b, n, self.d_latent), f\"{z_mu.shape} != {(b, n, self.d_latent)}\"\n",
    "\n",
    "        z_sample = self.sample_latents(z_mu, z_logvar)\n",
    "        kl_loss = self.kl_divergence(z_mu, z_logvar)\n",
    "        \n",
    "        # TODO latent optimization\n",
    "\n",
    "        # Decode the (target) inputs with the one-left-out latents into outputs\n",
    "        inputs = pairs[:, :, 0].unsqueeze(-1) # (B, N, 1)\n",
    "        z_inputs = torch.cat([z_sample, inputs], dim=-1)\n",
    "\n",
    "        # outputs_pred: (B, N, 1)\n",
    "        outputs_pred = self.decoder(z_inputs)\n",
    "\n",
    "        outputs_true = pairs[:, :, 1].unsqueeze(-1)\n",
    "\n",
    "        # NOTE: assuming a variance of 1. for intuition see https://chatgpt.com/share/6809ffa6-7710-8000-bef7-b73d0116c0e2\n",
    "        recon_loss = .5 * self.mse(outputs_pred, outputs_true)\n",
    "\n",
    "        # recon_loss is wrt the decoder (p_theta)\n",
    "        # kl_loss is wrt the encoder (q_phi)\n",
    "        loss = recon_loss + self.beta * kl_loss\n",
    "\n",
    "        aux = {\n",
    "            'z_mu': z_mu,\n",
    "            'z_logvar': z_logvar,\n",
    "            'z_sample': z_sample,\n",
    "            'outputs_pred': outputs_pred,\n",
    "        }\n",
    "\n",
    "        return aux, loss\n",
    "\n",
    "\n",
    "    def sample_latents(self, z_mu, z_logvar):\n",
    "        std = torch.exp(0.5 * z_logvar)  # (B*, H)\n",
    "        eps = torch.randn_like(std)      # (B*, H), same shape as std\n",
    "        z = z_mu + eps * std             # (B*, H)\n",
    "        return z\n",
    "\n",
    "\n",
    "    def kl_divergence(self, z_mu, z_logvar):\n",
    "        # KL divergence between N(z_mu, exp(z_logvar)) and N(0, I)\n",
    "        kl = -0.5 * torch.sum(1 + z_logvar - z_mu.pow(2) - z_logvar.exp(), dim=-1)  # shape: (B*)\n",
    "        return kl.mean()\n",
    "\n",
    "\n",
    "    \n"
   ]
  },
  {
   "cell_type": "markdown",
   "id": "b4bfde17",
   "metadata": {},
   "source": [
    "### Scratch"
   ]
  },
  {
   "cell_type": "code",
   "execution_count": 36,
   "id": "e3710bb7",
   "metadata": {},
   "outputs": [
    {
     "data": {
      "text/plain": [
       "torch.Size([16, 10, 1])"
      ]
     },
     "execution_count": 36,
     "metadata": {},
     "output_type": "execute_result"
    }
   ],
   "source": [
    "pairs = io_pairs\n",
    "pairs.shape\n",
    "inputs = pairs[:, :, 0].unsqueeze(-1)\n",
    "inputs.shape"
   ]
  },
  {
   "cell_type": "code",
   "execution_count": null,
   "id": "fe79f2d7",
   "metadata": {},
   "outputs": [
    {
     "data": {
      "text/plain": [
       "torch.Size([16, 10, 2])"
      ]
     },
     "execution_count": 34,
     "metadata": {},
     "output_type": "execute_result"
    }
   ],
   "source": [
    ".shape"
   ]
  },
  {
   "cell_type": "code",
   "execution_count": 86,
   "id": "d56ddced",
   "metadata": {},
   "outputs": [
    {
     "data": {
      "text/html": [
       "Tracking run with wandb version 0.19.10"
      ],
      "text/plain": [
       "<IPython.core.display.HTML object>"
      ]
     },
     "metadata": {},
     "output_type": "display_data"
    },
    {
     "data": {
      "text/html": [
       "Run data is saved locally in <code>/home/sb/Documents/eth/s2/pmlr/pmlr25-lpn/src/wandb/run-20250424_123642-kdpthzgl</code>"
      ],
      "text/plain": [
       "<IPython.core.display.HTML object>"
      ]
     },
     "metadata": {},
     "output_type": "display_data"
    },
    {
     "data": {
      "text/html": [
       "Syncing run <strong><a href='https://wandb.ai/sbratus-eth-zurich/pmlr25-lpn-src/runs/kdpthzgl' target=\"_blank\">generous-shape-2</a></strong> to <a href='https://wandb.ai/sbratus-eth-zurich/pmlr25-lpn-src' target=\"_blank\">Weights & Biases</a> (<a href='https://wandb.me/developer-guide' target=\"_blank\">docs</a>)<br>"
      ],
      "text/plain": [
       "<IPython.core.display.HTML object>"
      ]
     },
     "metadata": {},
     "output_type": "display_data"
    },
    {
     "data": {
      "text/html": [
       " View project at <a href='https://wandb.ai/sbratus-eth-zurich/pmlr25-lpn-src' target=\"_blank\">https://wandb.ai/sbratus-eth-zurich/pmlr25-lpn-src</a>"
      ],
      "text/plain": [
       "<IPython.core.display.HTML object>"
      ]
     },
     "metadata": {},
     "output_type": "display_data"
    },
    {
     "data": {
      "text/html": [
       " View run at <a href='https://wandb.ai/sbratus-eth-zurich/pmlr25-lpn-src/runs/kdpthzgl' target=\"_blank\">https://wandb.ai/sbratus-eth-zurich/pmlr25-lpn-src/runs/kdpthzgl</a>"
      ],
      "text/plain": [
       "<IPython.core.display.HTML object>"
      ]
     },
     "metadata": {},
     "output_type": "display_data"
    },
    {
     "name": "stderr",
     "output_type": "stream",
     "text": [
      "\u001b[34m\u001b[1mwandb\u001b[0m: \u001b[32m\u001b[41mERROR\u001b[0m The nbformat package was not found. It is required to save notebook history.\n"
     ]
    },
    {
     "data": {
      "text/html": [],
      "text/plain": [
       "<IPython.core.display.HTML object>"
      ]
     },
     "metadata": {},
     "output_type": "display_data"
    },
    {
     "data": {
      "text/html": [
       " View run <strong style=\"color:#cdcd00\">generous-shape-2</strong> at: <a href='https://wandb.ai/sbratus-eth-zurich/pmlr25-lpn-src/runs/kdpthzgl' target=\"_blank\">https://wandb.ai/sbratus-eth-zurich/pmlr25-lpn-src/runs/kdpthzgl</a><br> View project at: <a href='https://wandb.ai/sbratus-eth-zurich/pmlr25-lpn-src' target=\"_blank\">https://wandb.ai/sbratus-eth-zurich/pmlr25-lpn-src</a><br>Synced 5 W&B file(s), 0 media file(s), 0 artifact file(s) and 0 other file(s)"
      ],
      "text/plain": [
       "<IPython.core.display.HTML object>"
      ]
     },
     "metadata": {},
     "output_type": "display_data"
    },
    {
     "data": {
      "text/html": [
       "Find logs at: <code>./wandb/run-20250424_123642-kdpthzgl/logs</code>"
      ],
      "text/plain": [
       "<IPython.core.display.HTML object>"
      ]
     },
     "metadata": {},
     "output_type": "display_data"
    },
    {
     "data": {
      "text/html": [
       "Tracking run with wandb version 0.19.10"
      ],
      "text/plain": [
       "<IPython.core.display.HTML object>"
      ]
     },
     "metadata": {},
     "output_type": "display_data"
    },
    {
     "data": {
      "text/html": [
       "Run data is saved locally in <code>/home/sb/Documents/eth/s2/pmlr/pmlr25-lpn/src/wandb/run-20250424_123644-8rsj0ehj</code>"
      ],
      "text/plain": [
       "<IPython.core.display.HTML object>"
      ]
     },
     "metadata": {},
     "output_type": "display_data"
    },
    {
     "data": {
      "text/html": [
       "Syncing run <strong><a href='https://wandb.ai/sbratus-eth-zurich/lpn4sine/runs/8rsj0ehj' target=\"_blank\">good-dew-4</a></strong> to <a href='https://wandb.ai/sbratus-eth-zurich/lpn4sine' target=\"_blank\">Weights & Biases</a> (<a href='https://wandb.me/developer-guide' target=\"_blank\">docs</a>)<br>"
      ],
      "text/plain": [
       "<IPython.core.display.HTML object>"
      ]
     },
     "metadata": {},
     "output_type": "display_data"
    },
    {
     "data": {
      "text/html": [
       " View project at <a href='https://wandb.ai/sbratus-eth-zurich/lpn4sine' target=\"_blank\">https://wandb.ai/sbratus-eth-zurich/lpn4sine</a>"
      ],
      "text/plain": [
       "<IPython.core.display.HTML object>"
      ]
     },
     "metadata": {},
     "output_type": "display_data"
    },
    {
     "data": {
      "text/html": [
       " View run at <a href='https://wandb.ai/sbratus-eth-zurich/lpn4sine/runs/8rsj0ehj' target=\"_blank\">https://wandb.ai/sbratus-eth-zurich/lpn4sine/runs/8rsj0ehj</a>"
      ],
      "text/plain": [
       "<IPython.core.display.HTML object>"
      ]
     },
     "metadata": {},
     "output_type": "display_data"
    },
    {
     "name": "stdout",
     "output_type": "stream",
     "text": [
      "Step 0, Loss: 1.8649\n",
      "Step 100, Loss: 1.6359\n",
      "Step 200, Loss: 1.3992\n",
      "Step 300, Loss: 1.1134\n",
      "Step 400, Loss: 0.7191\n",
      "Step 500, Loss: 0.8832\n",
      "Step 600, Loss: 1.9432\n",
      "Step 700, Loss: 1.0000\n",
      "Step 800, Loss: 1.1297\n",
      "Step 900, Loss: 0.8340\n",
      "Step 1000, Loss: 0.4546\n",
      "Step 1100, Loss: 0.3921\n",
      "Step 1200, Loss: 0.2046\n",
      "Step 1300, Loss: 0.2622\n",
      "Step 1400, Loss: 0.4622\n",
      "Step 1500, Loss: 0.3320\n",
      "Step 1600, Loss: 0.2915\n",
      "Step 1700, Loss: 0.1681\n",
      "Step 1800, Loss: 0.2650\n",
      "Step 1900, Loss: 0.2658\n",
      "Step 2000, Loss: 0.2120\n",
      "Step 2100, Loss: 0.3424\n",
      "Step 2200, Loss: 0.1828\n",
      "Step 2300, Loss: 0.2655\n",
      "Step 2400, Loss: 0.2169\n",
      "Step 2500, Loss: 0.2613\n",
      "Step 2600, Loss: 0.1917\n",
      "Step 2700, Loss: 0.2164\n",
      "Step 2800, Loss: 0.3400\n",
      "Step 2900, Loss: 0.2876\n",
      "Step 3000, Loss: 0.2562\n",
      "Step 3100, Loss: 0.3525\n",
      "Step 3200, Loss: 0.1943\n",
      "Step 3300, Loss: 0.2661\n",
      "Step 3400, Loss: 0.2627\n",
      "Step 3500, Loss: 0.1538\n",
      "Step 3600, Loss: 0.1498\n",
      "Step 3700, Loss: 0.1445\n",
      "Step 3800, Loss: 0.2201\n",
      "Step 3900, Loss: 0.2453\n",
      "Step 4000, Loss: 0.1070\n",
      "Step 4100, Loss: 0.2922\n",
      "Step 4200, Loss: 0.1491\n",
      "Step 4300, Loss: 0.1776\n",
      "Step 4400, Loss: 0.2157\n",
      "Step 4500, Loss: 0.3462\n",
      "Step 4600, Loss: 0.1569\n",
      "Step 4700, Loss: 0.2219\n",
      "Step 4800, Loss: 0.2549\n",
      "Step 4900, Loss: 0.2278\n",
      "Step 5000, Loss: 0.2048\n",
      "Step 5100, Loss: 0.2513\n",
      "Step 5200, Loss: 0.0814\n",
      "Step 5300, Loss: 0.3309\n",
      "Step 5400, Loss: 0.2120\n",
      "Step 5500, Loss: 0.2826\n",
      "Step 5600, Loss: 0.0871\n",
      "Step 5700, Loss: 0.1698\n",
      "Step 5800, Loss: 0.3294\n",
      "Step 5900, Loss: 0.2178\n",
      "Step 6000, Loss: 0.2369\n",
      "Step 6100, Loss: 0.1902\n",
      "Step 6200, Loss: 0.2416\n",
      "Step 6300, Loss: 0.1673\n",
      "Step 6400, Loss: 0.1512\n",
      "Step 6500, Loss: 0.1141\n",
      "Step 6600, Loss: 0.1893\n",
      "Step 6700, Loss: 0.2138\n",
      "Step 6800, Loss: 0.1506\n",
      "Step 6900, Loss: 0.0870\n",
      "Step 7000, Loss: 0.5061\n",
      "Step 7100, Loss: 0.3240\n",
      "Step 7200, Loss: 0.2241\n",
      "Step 7300, Loss: 0.1731\n",
      "Step 7400, Loss: 0.1908\n",
      "Step 7500, Loss: 0.1937\n",
      "Step 7600, Loss: 0.1445\n",
      "Step 7700, Loss: 0.1208\n",
      "Step 7800, Loss: 0.1555\n",
      "Step 7900, Loss: 0.1868\n",
      "Step 8000, Loss: 0.2527\n",
      "Step 8100, Loss: 0.1619\n",
      "Step 8200, Loss: 0.1015\n",
      "Step 8300, Loss: 0.1988\n",
      "Step 8400, Loss: 0.1657\n",
      "Step 8500, Loss: 0.2506\n",
      "Step 8600, Loss: 0.1731\n",
      "Step 8700, Loss: 0.1930\n",
      "Step 8800, Loss: 0.1218\n",
      "Step 8900, Loss: 0.1235\n",
      "Step 9000, Loss: 0.1761\n",
      "Step 9100, Loss: 0.1802\n",
      "Step 9200, Loss: 0.2995\n",
      "Step 9300, Loss: 0.1436\n",
      "Step 9400, Loss: 0.1318\n",
      "Step 9500, Loss: 0.1511\n",
      "Step 9600, Loss: 0.0866\n",
      "Step 9700, Loss: 0.2235\n",
      "Step 9800, Loss: 0.1631\n",
      "Step 9900, Loss: 0.1229\n"
     ]
    }
   ],
   "source": [
    "import wandb\n",
    "wandb.init(settings=wandb.Settings(save_code=False))\n",
    "wandb.finish()\n",
    "wandb.init(project=\"lpn4sine\")\n",
    "\n",
    "device = torch.device(\"cuda\" if torch.cuda.is_available() else \"cpu\")\n",
    "\n",
    "n_tasks = 10_000\n",
    "n_samples_per_task = 10\n",
    "batch_size = 16\n",
    "\n",
    "data_gen = SineDataGenerator(n_samples_per_task, batch_size)\n",
    "\n",
    "d_latent = 3\n",
    "# alpha = .1\n",
    "\n",
    "# Init encoder-decoder\n",
    "encoder = IOPairSetEncoder(phi=ReluNet(2, 32, 32),\n",
    "                           rho_0=ReluNet(32, 32, 16),\n",
    "                           rho_1=ReluNet(16, 8, d_latent))\n",
    "decoder = Decoder(d_input=1, d_latent=d_latent, ds_hidden=[32, 32], d_output=1)\n",
    "\n",
    "lpn = LPN(d_input=1,\n",
    "          d_output=1,\n",
    "          d_latent=d_latent,\n",
    "          encoder=encoder,\n",
    "          decoder=decoder).to(device)\n",
    "\n",
    "optimizer = torch.optim.AdamW(lpn.parameters(), lr=1e-3)\n",
    "\n",
    "losses = []\n",
    "\n",
    "for i in range(n_tasks):\n",
    "    lpn.train()\n",
    "    optimizer.zero_grad()\n",
    "\n",
    "    inputs, outputs, amp, phase = data_gen.generate()\n",
    "    io_pairs = torch.cat([inputs, outputs], dim=-1).to(device)  # (B, N, 2)\n",
    "\n",
    "    _, loss = lpn(io_pairs)\n",
    "\n",
    "    loss.backward()\n",
    "    optimizer.step()\n",
    "\n",
    "    if i % 100 == 0:\n",
    "        print(f\"Step {i}, Loss: {loss.item():.4f}\")\n",
    "        wandb.log({\"loss\": loss.item()})\n",
    "        losses.append(loss.item())\n",
    "\n",
    "\n",
    "# wandb.finish()"
   ]
  },
  {
   "cell_type": "code",
   "execution_count": 87,
   "id": "4c2ec6df",
   "metadata": {},
   "outputs": [
    {
     "name": "stderr",
     "output_type": "stream",
     "text": [
      "\u001b[34m\u001b[1mwandb\u001b[0m: \u001b[32m\u001b[41mERROR\u001b[0m The nbformat package was not found. It is required to save notebook history.\n"
     ]
    },
    {
     "data": {
      "text/html": [],
      "text/plain": [
       "<IPython.core.display.HTML object>"
      ]
     },
     "metadata": {},
     "output_type": "display_data"
    },
    {
     "data": {
      "text/html": [
       "<br>    <style><br>        .wandb-row {<br>            display: flex;<br>            flex-direction: row;<br>            flex-wrap: wrap;<br>            justify-content: flex-start;<br>            width: 100%;<br>        }<br>        .wandb-col {<br>            display: flex;<br>            flex-direction: column;<br>            flex-basis: 100%;<br>            flex: 1;<br>            padding: 10px;<br>        }<br>    </style><br><div class=\"wandb-row\"><div class=\"wandb-col\"><h3>Run history:</h3><br/><table class=\"wandb\"><tr><td>loss</td><td>█▇▅▅▃▁▂▂▂▁▂▁▁▁▁▂▂▂▁▂▁▁▂▂▁▁▂▁▃▂▂▁▁▁▂▁▁▂▁▁</td></tr></table><br/></div><div class=\"wandb-col\"><h3>Run summary:</h3><br/><table class=\"wandb\"><tr><td>loss</td><td>0.12293</td></tr></table><br/></div></div>"
      ],
      "text/plain": [
       "<IPython.core.display.HTML object>"
      ]
     },
     "metadata": {},
     "output_type": "display_data"
    },
    {
     "data": {
      "text/html": [
       " View run <strong style=\"color:#cdcd00\">good-dew-4</strong> at: <a href='https://wandb.ai/sbratus-eth-zurich/lpn4sine/runs/8rsj0ehj' target=\"_blank\">https://wandb.ai/sbratus-eth-zurich/lpn4sine/runs/8rsj0ehj</a><br> View project at: <a href='https://wandb.ai/sbratus-eth-zurich/lpn4sine' target=\"_blank\">https://wandb.ai/sbratus-eth-zurich/lpn4sine</a><br>Synced 5 W&B file(s), 0 media file(s), 0 artifact file(s) and 0 other file(s)"
      ],
      "text/plain": [
       "<IPython.core.display.HTML object>"
      ]
     },
     "metadata": {},
     "output_type": "display_data"
    },
    {
     "data": {
      "text/html": [
       "Find logs at: <code>./wandb/run-20250424_123644-8rsj0ehj/logs</code>"
      ],
      "text/plain": [
       "<IPython.core.display.HTML object>"
      ]
     },
     "metadata": {},
     "output_type": "display_data"
    }
   ],
   "source": [
    "wandb.finish()"
   ]
  },
  {
   "cell_type": "code",
   "execution_count": 89,
   "id": "08703d5e",
   "metadata": {},
   "outputs": [
    {
     "data": {
      "image/png": "[encoded data removed]",
      "text/plain": [
       "<Figure size 640x480 with 1 Axes>"
      ]
     },
     "metadata": {},
     "output_type": "display_data"
    }
   ],
   "source": [
    "plt.plot(losses)\n",
    "plt.show()"
   ]
  },
  {
   "cell_type": "markdown",
   "id": "bb43c0b5",
   "metadata": {},
   "source": [
    "#### Micro-validation"
   ]
  },
  {
   "cell_type": "code",
   "execution_count": 70,
   "id": "133ccaae",
   "metadata": {},
   "outputs": [],
   "source": [
    "inputs_t, outputs_t, amp_t, phase_t = SineDataGenerator(10, 1).generate()"
   ]
  },
  {
   "cell_type": "code",
   "execution_count": 73,
   "id": "e48a01cc",
   "metadata": {},
   "outputs": [
    {
     "data": {
      "text/plain": [
       "(torch.Size([1, 10, 1]), torch.Size([1]))"
      ]
     },
     "execution_count": 73,
     "metadata": {},
     "output_type": "execute_result"
    }
   ],
   "source": [
    "inputs_t.shape, amp_t.shape"
   ]
  },
  {
   "cell_type": "code",
   "execution_count": null,
   "id": "5a829064",
   "metadata": {},
   "outputs": [],
   "source": [
    "io_pairs_t = torch.cat([inputs_t, outputs_t], dim=-1).to(device)  # (B, N, 2)\n",
    "aux_t, loss_t = lpn(io_pairs_t)\n",
    "outputs_pred_t = aux_t[\"outputs_pred\"].detach().cpu().numpy()"
   ]
  },
  {
   "cell_type": "code",
   "execution_count": 84,
   "id": "8f6f57ef",
   "metadata": {},
   "outputs": [
    {
     "data": {
      "text/plain": [
       "3.3096280097961426"
      ]
     },
     "execution_count": 84,
     "metadata": {},
     "output_type": "execute_result"
    }
   ],
   "source": [
    "amp_t.item()"
   ]
  },
  {
   "cell_type": "code",
   "execution_count": 85,
   "id": "5a54258e",
   "metadata": {},
   "outputs": [
    {
     "data": {
      "image/png": "[encoded data removed]",
      "text/plain": [
       "<Figure size 640x480 with 1 Axes>"
      ]
     },
     "metadata": {},
     "output_type": "display_data"
    }
   ],
   "source": [
    "import matplotlib.pyplot as plt\n",
    "\n",
    "# Plot ground-truth,\n",
    "amp = amp_t.item()\n",
    "phase = phase_t.item()\n",
    "\n",
    "# Plot each set of inputs and outputs as a separate line\n",
    "x = np.linspace(-5, 5, 100)\n",
    "y = amp * np.sin(x - phase)\n",
    "\n",
    "plt.plot(x, y, label=f\"ground-truth\")\n",
    "plt.scatter(inputs_t, outputs_t, color='green', marker='s', label=f\"samples\")\n",
    "\n",
    "target_input = inputs_t[0, 0, 0].item()\n",
    "target_output = outputs_t[0, 0, 0].item()\n",
    "plt.scatter(target_input, target_output, marker='s', color='red', label=f\"target (ground-truth)\")\n",
    "\n",
    "plt.scatter(inputs_t, outputs_pred_t, marker='o', color='blue', label=f\"predictions\")\n",
    "\n",
    "plt.xlabel(\"Inputs x\")\n",
    "plt.ylabel(\"Outputs y\")\n",
    "# plt.title(\"Outputs vs Inputs\")\n",
    "plt.legend()\n",
    "plt.show()"
   ]
  },
  {
   "cell_type": "markdown",
   "id": "b8440add",
   "metadata": {},
   "source": [
    "### [WIP] Algorithm 1: Test-Time Inference"
   ]
  },
  {
   "cell_type": "code",
   "execution_count": null,
   "id": "b0b74b55",
   "metadata": {},
   "outputs": [],
   "source": [
    "# # Input\n",
    "# inputs, outputs_pred, amp, phase = [torch.Tensor(arr) for arr in data_gen.generate()]\n",
    "# # Context: n=10 input-output pairs (x_i, y_i)\n",
    "# ctx_inputs = inputs[:, :-1, :]\n",
    "# ctx_outputs = outputs_pred[:, :-1, :]\n",
    "# # Test input x_{n+1}\n",
    "# test_inputs = inputs[:, -1, :].unsqueeze(1)\n",
    "# test_outputs = outputs_pred[:, -1, :].unsqueeze(1)\n",
    "# number of gradient steps"
   ]
  },
  {
   "cell_type": "markdown",
   "id": "01264fc7",
   "metadata": {},
   "source": [
    "### Plotting sample tasks"
   ]
  },
  {
   "cell_type": "code",
   "execution_count": null,
   "id": "6cb1d618",
   "metadata": {},
   "outputs": [
    {
     "data": {
      "image/png": "[encoded data removed]",
      "text/plain": [
       "<Figure size 640x480 with 1 Axes>"
      ]
     },
     "metadata": {},
     "output_type": "display_data"
    }
   ],
   "source": [
    "import matplotlib.pyplot as plt\n",
    "\n",
    "# Plot each set of inputs and outputs as a separate line\n",
    "for i in range(min(2, inputs_np.shape[0])):\n",
    "    x = np.linspace(-2 * np.pi, 2 * np.pi, 100)\n",
    "    y = amp_np[i] * np.sin(x - phase_np[i])\n",
    "    plt.plot(x, y, label=f\"ground-truth #{i}\")\n",
    "    plt.scatter(inputs_np[i], outputs_np[i], marker='s', label=f\"samples #{i}\")\n",
    "    # plt.plot(init_inputs[i], outputs[i], label=f\"Line {i+1}\")\n",
    "\n",
    "plt.xlabel(\"Inputs x\")\n",
    "plt.ylabel(\"Outputs y\")\n",
    "# plt.title(\"Outputs vs Inputs\")\n",
    "plt.legend()\n",
    "plt.show()"
   ]
  }
 ],
 "metadata": {
  "kernelspec": {
   "display_name": "env3.12-lpn-pt",
   "language": "python",
   "name": "python3"
  },
  "language_info": {
   "codemirror_mode": {
    "name": "ipython",
    "version": 3
   },
   "file_extension": ".py",
   "mimetype": "text/x-python",
   "name": "python",
   "nbconvert_exporter": "python",
   "pygments_lexer": "ipython3",
   "version": "3.12.10"
  }
 },
 "nbformat": 4,
 "nbformat_minor": 5
}
