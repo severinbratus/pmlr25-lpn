{
 "cells": [
  {
   "cell_type": "code",
   "execution_count": 9,
   "id": "4abcc9bb",
   "metadata": {},
   "outputs": [
    {
     "name": "stdout",
     "output_type": "stream",
     "text": [
      "The autoreload extension is already loaded. To reload it, use:\n",
      "  %reload_ext autoreload\n"
     ]
    }
   ],
   "source": [
    "import torch\n",
    "import torch.nn as nn\n",
    "\n",
    "import numpy as np\n",
    "import copy\n",
    "import random\n",
    "\n",
    "import matplotlib.pyplot as plt\n",
    "%config InlineBackend.figure_format = 'retina'\n",
    "import sys\n",
    "import os\n",
    "sys.path.append(os.path.abspath(os.path.join('..', 'src')))\n",
    "%load_ext autoreload\n",
    "%autoreload 2\n",
    "import sine_data_generator\n",
    "import models.encoder\n",
    "import models.decoder\n",
    "\n",
    "from sine_data_generator import SineDataGenerator\n",
    "from models.encoder import IOPairSetEncoder\n",
    "from models.decoder import Decoder\n",
    "from models.lpn import LPN\n",
    "from models.utils import relu_seq, ReluNet, make_leave_one_out"
   ]
  },
  {
   "cell_type": "markdown",
   "id": "4c2a61f1",
   "metadata": {},
   "source": [
    "### Data"
   ]
  },
  {
   "cell_type": "code",
   "execution_count": 10,
   "id": "985cb1f6",
   "metadata": {},
   "outputs": [],
   "source": [
    "def generate_extrapolation_batch(data_gen, n_support, n_query):\n",
    "    \"\"\"\n",
    "    Draws one task and splits its samples into:\n",
    "      • support points with x < 0  (n_support of them)\n",
    "      • query   points with x >= 0 (n_query of them)\n",
    "\n",
    "    Returns:\n",
    "      support_xs: (1, n_support, 1)\n",
    "      support_ys: (1, n_support, 1)\n",
    "      query_xs:   (1, n_query,   1)\n",
    "      query_ys:   (1, n_query,   1)\n",
    "      amp, phase: floats\n",
    "    \"\"\"\n",
    "    xs, ys, amp, phase = data_gen.generate()  # shapes: (B, N, 1) and (B,)\n",
    "    # select first task if batch_size>1\n",
    "    xs = xs[0]       # → (N,1)\n",
    "    ys = ys[0]       # → (N,1)\n",
    "    amp   = amp[0].item()\n",
    "    phase = phase[0].item()\n",
    "\n",
    "    neg_idx = (xs[:,0] < 0).nonzero(as_tuple=False).squeeze()\n",
    "    pos_idx = (xs[:,0] >= 0).nonzero(as_tuple=False).squeeze()\n",
    "\n",
    "    support_idx = neg_idx[:n_support]\n",
    "    query_idx   = pos_idx[:n_query]\n",
    "\n",
    "    support_xs = xs[support_idx].unsqueeze(0)  # (1, n_support, 1)\n",
    "    support_ys = ys[support_idx].unsqueeze(0)\n",
    "    query_xs   = xs[query_idx].unsqueeze(0)    # (1, n_query,   1)\n",
    "    query_ys   = ys[query_idx].unsqueeze(0)\n",
    "\n",
    "    return support_xs, support_ys, query_xs, query_ys, amp, phase\n"
   ]
  },
  {
   "cell_type": "code",
   "execution_count": 11,
   "id": "de1692cc",
   "metadata": {},
   "outputs": [],
   "source": [
    "n_test_points = 60\n",
    "test_batch_size = 1\n",
    "n_query = 20\n",
    "n_support = 10\n",
    "n_query_samples_per_task = n_test_samples_per_task - n_support_samples_per_task"
   ]
  },
  {
   "cell_type": "code",
   "execution_count": 12,
   "id": "63929244",
   "metadata": {},
   "outputs": [],
   "source": [
    "data_gen = SineDataGenerator(num_samples_per_class=n_support + n_query,\n",
    "                             batch_size=1)\n",
    "\n",
    "\n",
    "inputs_np, outputs_np, amp_np, phase_np = data = data_gen.generate()\n",
    "xs, outputs_pred, amp, phase = [torch.Tensor(arr) for arr in data]"
   ]
  },
  {
   "cell_type": "markdown",
   "id": "db281a44",
   "metadata": {},
   "source": [
    "### Modules"
   ]
  },
  {
   "cell_type": "markdown",
   "id": "3414c0d8",
   "metadata": {},
   "source": [
    "#### Encoder"
   ]
  },
  {
   "cell_type": "code",
   "execution_count": 13,
   "id": "19e4c29c",
   "metadata": {},
   "outputs": [
    {
     "data": {
      "text/plain": [
       "torch.Size([1, 30, 2])"
      ]
     },
     "execution_count": 13,
     "metadata": {},
     "output_type": "execute_result"
    }
   ],
   "source": [
    "io_pairs = torch.cat([xs, outputs_pred], dim=-1)  # (batch_size, N, 2)\n",
    "io_pairs.shape"
   ]
  },
  {
   "cell_type": "code",
   "execution_count": 14,
   "id": "43807719",
   "metadata": {},
   "outputs": [
    {
     "data": {
      "text/plain": [
       "torch.Size([1, 3])"
      ]
     },
     "execution_count": 14,
     "metadata": {},
     "output_type": "execute_result"
    }
   ],
   "source": [
    "set_encoder = IOPairSetEncoder()\n",
    "z_mu, z_logvar = set_encoder(io_pairs)\n",
    "z_sample = z_mu\n",
    "z_sample.shape  # (batch_size, output_dim)"
   ]
  },
  {
   "cell_type": "markdown",
   "id": "99c07749",
   "metadata": {},
   "source": [
    "#### Decoder"
   ]
  },
  {
   "cell_type": "code",
   "execution_count": 15,
   "id": "fbdab079",
   "metadata": {},
   "outputs": [
    {
     "data": {
      "text/plain": [
       "torch.Size([1, 1])"
      ]
     },
     "execution_count": 15,
     "metadata": {},
     "output_type": "execute_result"
    }
   ],
   "source": [
    "input_0 = xs[:, 0, :]  # (batch_size, d_input)\n",
    "input_0.shape"
   ]
  },
  {
   "cell_type": "code",
   "execution_count": 16,
   "id": "4303137e",
   "metadata": {},
   "outputs": [
    {
     "data": {
      "text/plain": [
       "torch.Size([1, 30, 4])"
      ]
     },
     "execution_count": 16,
     "metadata": {},
     "output_type": "execute_result"
    }
   ],
   "source": [
    "z_expanded = z_sample.unsqueeze(1).expand(-1, xs.size(1), -1)\n",
    "z_inputs = torch.cat([z_expanded, xs], axis=-1)\n",
    "z_inputs.shape"
   ]
  },
  {
   "cell_type": "code",
   "execution_count": 17,
   "id": "fc3c84b6",
   "metadata": {},
   "outputs": [
    {
     "data": {
      "text/plain": [
       "Decoder(\n",
       "  (net): Sequential(\n",
       "    (0): Linear(in_features=4, out_features=32, bias=True)\n",
       "    (1): ReLU()\n",
       "    (2): Linear(in_features=32, out_features=32, bias=True)\n",
       "    (3): ReLU()\n",
       "    (4): Linear(in_features=32, out_features=1, bias=True)\n",
       "  )\n",
       ")"
      ]
     },
     "execution_count": 17,
     "metadata": {},
     "output_type": "execute_result"
    }
   ],
   "source": [
    "decoder = Decoder()\n",
    "decoder"
   ]
  },
  {
   "cell_type": "code",
   "execution_count": 18,
   "id": "ecc27e25",
   "metadata": {},
   "outputs": [
    {
     "data": {
      "text/plain": [
       "torch.Size([1, 30, 1])"
      ]
     },
     "execution_count": 18,
     "metadata": {},
     "output_type": "execute_result"
    }
   ],
   "source": [
    "decoder(z_inputs).shape"
   ]
  },
  {
   "cell_type": "markdown",
   "id": "efc239cd",
   "metadata": {},
   "source": [
    "### Utils"
   ]
  },
  {
   "cell_type": "code",
   "execution_count": 19,
   "id": "720fc70c",
   "metadata": {},
   "outputs": [],
   "source": [
    "def make_leave_one_out(array: torch.Tensor, axis: int) -> torch.Tensor:\n",
    "    \"\"\"\n",
    "    Args:\n",
    "        array: Tensor of shape (*B, N, *H).\n",
    "        axis: The axis where N appears.\n",
    "\n",
    "    Returns:\n",
    "        Tensor of shape (*B, N, N-1, *H).\n",
    "    \"\"\"\n",
    "    axis = axis % array.ndim\n",
    "    n = array.size(axis)\n",
    "    output = []\n",
    "\n",
    "    for i in range(n):\n",
    "        array_before = array.narrow(axis, 0, i)\n",
    "        array_after = array.narrow(axis, i + 1, n - i - 1)\n",
    "        sliced = torch.cat([array_before, array_after], dim=axis)\n",
    "        output.append(sliced)\n",
    "\n",
    "    output = torch.stack(output, dim=axis)\n",
    "    return output"
   ]
  },
  {
   "cell_type": "code",
   "execution_count": 20,
   "id": "c463909b",
   "metadata": {},
   "outputs": [
    {
     "name": "stdout",
     "output_type": "stream",
     "text": [
      "Original shape: torch.Size([4, 5, 6])\n",
      "Leave-one-out shape: torch.Size([4, 5, 4, 6])\n"
     ]
    }
   ],
   "source": [
    "# Create a random tensor\n",
    "random_array = torch.randn(4, 5, 6)  # Example shape (4, 5, 6)\n",
    "\n",
    "# Apply the make_leave_one_out function\n",
    "leave_one_out_result = make_leave_one_out(random_array, axis=1)\n",
    "\n",
    "# Print the shapes to verify\n",
    "print(\"Original shape:\", random_array.shape)\n",
    "print(\"Leave-one-out shape:\", leave_one_out_result.shape)"
   ]
  },
  {
   "cell_type": "code",
   "execution_count": 19,
   "id": "44a1f227",
   "metadata": {},
   "outputs": [
    {
     "data": {
      "text/plain": [
       "tensor([[-2.0245,  1.2739,  0.1611, -0.3323, -0.2750,  0.8881],\n",
       "        [ 0.7396,  0.3042, -0.9771, -0.8871,  1.3345,  0.8276],\n",
       "        [ 1.3554,  0.9643, -0.6711,  0.5168,  0.3140,  0.9722],\n",
       "        [ 0.2972, -0.0080,  0.4293, -0.0542, -1.3653,  0.9496],\n",
       "        [-1.1620, -1.5015,  0.1421,  1.0663, -0.5832, -1.6393]])"
      ]
     },
     "execution_count": 19,
     "metadata": {},
     "output_type": "execute_result"
    }
   ],
   "source": [
    "random_array[0, :, :]"
   ]
  },
  {
   "cell_type": "code",
   "execution_count": 20,
   "id": "afa3e668",
   "metadata": {},
   "outputs": [
    {
     "data": {
      "text/plain": [
       "tensor([[ 0.7396,  0.3042, -0.9771, -0.8871,  1.3345,  0.8276],\n",
       "        [ 1.3554,  0.9643, -0.6711,  0.5168,  0.3140,  0.9722],\n",
       "        [ 0.2972, -0.0080,  0.4293, -0.0542, -1.3653,  0.9496],\n",
       "        [-1.1620, -1.5015,  0.1421,  1.0663, -0.5832, -1.6393]])"
      ]
     },
     "execution_count": 20,
     "metadata": {},
     "output_type": "execute_result"
    }
   ],
   "source": [
    "leave_one_out_result[0, 0, :, :]"
   ]
  },
  {
   "cell_type": "markdown",
   "id": "d2861175",
   "metadata": {},
   "source": [
    "### LPN"
   ]
  },
  {
   "cell_type": "code",
   "execution_count": 21,
   "id": "553c14c2",
   "metadata": {},
   "outputs": [
    {
     "data": {
      "text/plain": [
       "torch.Size([3, 7])"
      ]
     },
     "execution_count": 21,
     "metadata": {},
     "output_type": "execute_result"
    }
   ],
   "source": [
    "# z: (H,)\n",
    "# inputs: (B, 1)\n",
    "B = 3  # Batch size\n",
    "N = 5\n",
    "H = 7  # Latent dimension\n",
    "\n",
    "# Generate random z and inputs\n",
    "z_init = torch.randn(H)  # Random latent variables of shape (B, H)\n",
    "xs = torch.randn(B, 1)  # Random inputs of shape (B, 1)\n",
    "\n",
    "# z_expanded = z.unsqueeze(0).expand(B, -1)\n",
    "z_init.unsqueeze(0).expand(B, -1).shape"
   ]
  },
  {
   "cell_type": "code",
   "execution_count": 22,
   "id": "54185733",
   "metadata": {},
   "outputs": [
    {
     "data": {
      "text/plain": [
       "torch.Size([3, 5, 1])"
      ]
     },
     "execution_count": 22,
     "metadata": {},
     "output_type": "execute_result"
    }
   ],
   "source": [
    "torch.manual_seed(0)\n",
    "ys_1 = torch.randn(B, N, N-1, 1)\n",
    "ys_2 = torch.randn(B, N, N-1, 1)\n",
    "mse = nn.functional.mse_loss(ys_1, ys_2, reduction='none') # (B, N, 1)\n",
    "mse.sum(dim=-2).shape"
   ]
  },
  {
   "cell_type": "code",
   "execution_count": 23,
   "id": "145662ba",
   "metadata": {},
   "outputs": [
    {
     "data": {
      "text/plain": [
       "torch.Size([3, 5, 4, 7])"
      ]
     },
     "execution_count": 23,
     "metadata": {},
     "output_type": "execute_result"
    }
   ],
   "source": [
    "z_init = torch.randn(B, N, H)\n",
    "z_init.unsqueeze(2).expand(-1, -1, N-1, -1).shape"
   ]
  },
  {
   "cell_type": "markdown",
   "id": "b4bfde17",
   "metadata": {},
   "source": [
    "### Training"
   ]
  },
  {
   "cell_type": "code",
   "execution_count": 24,
   "id": "d56ddced",
   "metadata": {},
   "outputs": [
    {
     "name": "stderr",
     "output_type": "stream",
     "text": [
      "\u001b[34m\u001b[1mwandb\u001b[0m: Currently logged in as: \u001b[33mwkalikman\u001b[0m (\u001b[33mwkalikman-eth-zurich\u001b[0m) to \u001b[32mhttps://api.wandb.ai\u001b[0m. Use \u001b[1m`wandb login --relogin`\u001b[0m to force relogin\n"
     ]
    },
    {
     "data": {
      "text/html": [
       "Tracking run with wandb version 0.19.10"
      ],
      "text/plain": [
       "<IPython.core.display.HTML object>"
      ]
     },
     "metadata": {},
     "output_type": "display_data"
    },
    {
     "data": {
      "text/html": [
       "Run data is saved locally in <code>/Users/willkalikman/Desktop/ETH Classes/AIC PMLR/pmlr25-lpn/src/wandb/run-20250515_205949-wx6zdgwh</code>"
      ],
      "text/plain": [
       "<IPython.core.display.HTML object>"
      ]
     },
     "metadata": {},
     "output_type": "display_data"
    },
    {
     "data": {
      "text/html": [
       "Syncing run <strong><a href='https://wandb.ai/wkalikman-eth-zurich/pmlr25-lpn-src/runs/wx6zdgwh' target=\"_blank\">dulcet-eon-6</a></strong> to <a href='https://wandb.ai/wkalikman-eth-zurich/pmlr25-lpn-src' target=\"_blank\">Weights & Biases</a> (<a href='https://wandb.me/developer-guide' target=\"_blank\">docs</a>)<br>"
      ],
      "text/plain": [
       "<IPython.core.display.HTML object>"
      ]
     },
     "metadata": {},
     "output_type": "display_data"
    },
    {
     "data": {
      "text/html": [
       " View project at <a href='https://wandb.ai/wkalikman-eth-zurich/pmlr25-lpn-src' target=\"_blank\">https://wandb.ai/wkalikman-eth-zurich/pmlr25-lpn-src</a>"
      ],
      "text/plain": [
       "<IPython.core.display.HTML object>"
      ]
     },
     "metadata": {},
     "output_type": "display_data"
    },
    {
     "data": {
      "text/html": [
       " View run at <a href='https://wandb.ai/wkalikman-eth-zurich/pmlr25-lpn-src/runs/wx6zdgwh' target=\"_blank\">https://wandb.ai/wkalikman-eth-zurich/pmlr25-lpn-src/runs/wx6zdgwh</a>"
      ],
      "text/plain": [
       "<IPython.core.display.HTML object>"
      ]
     },
     "metadata": {},
     "output_type": "display_data"
    },
    {
     "data": {
      "text/html": [],
      "text/plain": [
       "<IPython.core.display.HTML object>"
      ]
     },
     "metadata": {},
     "output_type": "display_data"
    },
    {
     "data": {
      "text/html": [
       " View run <strong style=\"color:#cdcd00\">dulcet-eon-6</strong> at: <a href='https://wandb.ai/wkalikman-eth-zurich/pmlr25-lpn-src/runs/wx6zdgwh' target=\"_blank\">https://wandb.ai/wkalikman-eth-zurich/pmlr25-lpn-src/runs/wx6zdgwh</a><br> View project at: <a href='https://wandb.ai/wkalikman-eth-zurich/pmlr25-lpn-src' target=\"_blank\">https://wandb.ai/wkalikman-eth-zurich/pmlr25-lpn-src</a><br>Synced 5 W&B file(s), 0 media file(s), 0 artifact file(s) and 0 other file(s)"
      ],
      "text/plain": [
       "<IPython.core.display.HTML object>"
      ]
     },
     "metadata": {},
     "output_type": "display_data"
    },
    {
     "data": {
      "text/html": [
       "Find logs at: <code>./wandb/run-20250515_205949-wx6zdgwh/logs</code>"
      ],
      "text/plain": [
       "<IPython.core.display.HTML object>"
      ]
     },
     "metadata": {},
     "output_type": "display_data"
    },
    {
     "data": {
      "text/html": [
       "Tracking run with wandb version 0.19.10"
      ],
      "text/plain": [
       "<IPython.core.display.HTML object>"
      ]
     },
     "metadata": {},
     "output_type": "display_data"
    },
    {
     "data": {
      "text/html": [
       "Run data is saved locally in <code>/Users/willkalikman/Desktop/ETH Classes/AIC PMLR/pmlr25-lpn/src/wandb/run-20250515_205951-v2ji82gs</code>"
      ],
      "text/plain": [
       "<IPython.core.display.HTML object>"
      ]
     },
     "metadata": {},
     "output_type": "display_data"
    },
    {
     "data": {
      "text/html": [
       "Syncing run <strong><a href='https://wandb.ai/wkalikman-eth-zurich/lpn4sine_cf_maml/runs/v2ji82gs' target=\"_blank\">helpful-forest-6</a></strong> to <a href='https://wandb.ai/wkalikman-eth-zurich/lpn4sine_cf_maml' target=\"_blank\">Weights & Biases</a> (<a href='https://wandb.me/developer-guide' target=\"_blank\">docs</a>)<br>"
      ],
      "text/plain": [
       "<IPython.core.display.HTML object>"
      ]
     },
     "metadata": {},
     "output_type": "display_data"
    },
    {
     "data": {
      "text/html": [
       " View project at <a href='https://wandb.ai/wkalikman-eth-zurich/lpn4sine_cf_maml' target=\"_blank\">https://wandb.ai/wkalikman-eth-zurich/lpn4sine_cf_maml</a>"
      ],
      "text/plain": [
       "<IPython.core.display.HTML object>"
      ]
     },
     "metadata": {},
     "output_type": "display_data"
    },
    {
     "data": {
      "text/html": [
       " View run at <a href='https://wandb.ai/wkalikman-eth-zurich/lpn4sine_cf_maml/runs/v2ji82gs' target=\"_blank\">https://wandb.ai/wkalikman-eth-zurich/lpn4sine_cf_maml/runs/v2ji82gs</a>"
      ],
      "text/plain": [
       "<IPython.core.display.HTML object>"
      ]
     },
     "metadata": {},
     "output_type": "display_data"
    },
    {
     "name": "stdout",
     "output_type": "stream",
     "text": [
      "Total parameters: 2393\n",
      "torch.sum(mse).item()=34688.20703125\n",
      "Step 0, Loss: 1.8281\n",
      "Step 1000, Loss: 0.9537\n",
      "Step 2000, Loss: 0.2324\n",
      "Step 3000, Loss: 0.3454\n",
      "Step 4000, Loss: 0.1463\n",
      "Step 5000, Loss: 0.1295\n",
      "Step 6000, Loss: 0.1539\n",
      "Step 7000, Loss: 0.0552\n",
      "Step 8000, Loss: 0.0593\n",
      "Step 9000, Loss: 0.0462\n",
      "Step 10000, Loss: 0.0417\n",
      "Step 11000, Loss: 0.0804\n",
      "Step 12000, Loss: 0.0756\n",
      "Step 13000, Loss: 0.0485\n",
      "Step 14000, Loss: 0.0699\n",
      "Step 15000, Loss: 0.0403\n",
      "Step 16000, Loss: 0.0612\n",
      "Step 17000, Loss: 0.0347\n",
      "Step 18000, Loss: 0.0484\n",
      "Step 19000, Loss: 0.0526\n",
      "Step 20000, Loss: 0.0601\n",
      "Step 21000, Loss: 0.0431\n",
      "Step 22000, Loss: 0.0455\n",
      "Step 23000, Loss: 0.0497\n",
      "Step 24000, Loss: 0.0442\n",
      "Step 25000, Loss: 0.0421\n",
      "Step 26000, Loss: 0.0346\n",
      "Step 27000, Loss: 0.0346\n",
      "Step 28000, Loss: 0.0293\n",
      "Step 29000, Loss: 0.0413\n",
      "Step 30000, Loss: 0.0321\n"
     ]
    },
    {
     "data": {
      "text/html": [],
      "text/plain": [
       "<IPython.core.display.HTML object>"
      ]
     },
     "metadata": {},
     "output_type": "display_data"
    },
    {
     "data": {
      "text/html": [
       "<br>    <style><br>        .wandb-row {<br>            display: flex;<br>            flex-direction: row;<br>            flex-wrap: wrap;<br>            justify-content: flex-start;<br>            width: 100%;<br>        }<br>        .wandb-col {<br>            display: flex;<br>            flex-direction: column;<br>            flex-basis: 100%;<br>            flex: 1;<br>            padding: 10px;<br>        }<br>    </style><br><div class=\"wandb-row\"><div class=\"wandb-col\"><h3>Run history:</h3><br/><table class=\"wandb\"><tr><td>loss</td><td>█▂▂▂▂▁▁▂▁▁▁▁▁▁▁▁▁▁▁▁▁▁▁▁▁▁▁▁▁▁▁▁▁▁▁▁▁▁▁▁</td></tr></table><br/></div><div class=\"wandb-col\"><h3>Run summary:</h3><br/><table class=\"wandb\"><tr><td>loss</td><td>0.03214</td></tr></table><br/></div></div>"
      ],
      "text/plain": [
       "<IPython.core.display.HTML object>"
      ]
     },
     "metadata": {},
     "output_type": "display_data"
    },
    {
     "data": {
      "text/html": [
       " View run <strong style=\"color:#cdcd00\">helpful-forest-6</strong> at: <a href='https://wandb.ai/wkalikman-eth-zurich/lpn4sine_cf_maml/runs/v2ji82gs' target=\"_blank\">https://wandb.ai/wkalikman-eth-zurich/lpn4sine_cf_maml/runs/v2ji82gs</a><br> View project at: <a href='https://wandb.ai/wkalikman-eth-zurich/lpn4sine_cf_maml' target=\"_blank\">https://wandb.ai/wkalikman-eth-zurich/lpn4sine_cf_maml</a><br>Synced 5 W&B file(s), 0 media file(s), 0 artifact file(s) and 0 other file(s)"
      ],
      "text/plain": [
       "<IPython.core.display.HTML object>"
      ]
     },
     "metadata": {},
     "output_type": "display_data"
    },
    {
     "data": {
      "text/html": [
       "Find logs at: <code>./wandb/run-20250515_205951-v2ji82gs/logs</code>"
      ],
      "text/plain": [
       "<IPython.core.display.HTML object>"
      ]
     },
     "metadata": {},
     "output_type": "display_data"
    }
   ],
   "source": [
    "import wandb\n",
    "wandb.init(settings=wandb.Settings(save_code=False))\n",
    "wandb.finish()\n",
    "wandb.init(project=\"lpn4sine_cf_maml\")\n",
    "\n",
    "device = torch.device(\"cuda\" if torch.cuda.is_available() else \"cpu\")\n",
    "\n",
    "n_metaiter = 30_001\n",
    "n_samples_per_task = 20\n",
    "batch_size = 25\n",
    "\n",
    "# number of inner gradient steps (in training)\n",
    "numstep = 1\n",
    "\n",
    "data_gen = SineDataGenerator(n_samples_per_task, batch_size)\n",
    "\n",
    "# alpha = 4e-4\n",
    "\n",
    "# Init encoder-decoder\n",
    "# encoder = IOPairSetEncoder(phi=ReluNet(2, 32, 32),\n",
    "#                            rho_0=ReluNet(32, 32, 16),\n",
    "#                            rho_1=ReluNet(16, 8, d_latent))\n",
    "\n",
    "# decoder = Decoder(d_input=1, d_latent=d_latent, ds_hidden=[32, 32], d_output=1)\n",
    "d_latent = 4\n",
    "\n",
    "encoder = IOPairSetEncoder(phi=ReluNet(2, 16, 32),\n",
    "                           rho_0=ReluNet(32, 16, 16),\n",
    "                           rho_1=ReluNet(16, 8, d_latent))\n",
    "\n",
    "decoder = Decoder(d_input=1, d_latent=d_latent, ds_hidden=[16, 16, 16], d_output=1)\n",
    "\n",
    "lpn = LPN(d_input=1,\n",
    "          d_output=1,\n",
    "          d_latent=d_latent,\n",
    "          encoder=encoder,\n",
    "          decoder=decoder).to(device)\n",
    "\n",
    "def count_parameters(model):\n",
    "    return sum(p.numel() for p in model.parameters())\n",
    "\n",
    "print(\"Total parameters:\", count_parameters(lpn))\n",
    "\n",
    "optimizer = torch.optim.AdamW(lpn.parameters(), lr=1e-3)\n",
    "\n",
    "losses = []\n",
    "\n",
    "for i in range(n_metaiter):\n",
    "    lpn.train()\n",
    "    optimizer.zero_grad()\n",
    "\n",
    "    xs, ys, amp, phase = data_gen.generate()\n",
    "    io_pairs = torch.cat([xs, ys], dim=-1).to(device)  # (B, N, 2)\n",
    "\n",
    "    # keep randomness in training\n",
    "    _, loss = lpn(io_pairs, K=numstep, debug=(i==0), deterministic=False)\n",
    "\n",
    "    loss.backward()\n",
    "    optimizer.step()\n",
    "\n",
    "    if i % 100 == 0:\n",
    "        wandb.log({\"loss\": loss.item()})\n",
    "        losses.append(loss.item())\n",
    "    if i % 1000 == 0:\n",
    "        print(f\"Step {i}, Loss: {loss.item():.4f}\")\n",
    "\n",
    "\n",
    "wandb.finish()"
   ]
  },
  {
   "cell_type": "code",
   "execution_count": 25,
   "id": "4c2ec6df",
   "metadata": {},
   "outputs": [],
   "source": [
    "wandb.finish()"
   ]
  },
  {
   "cell_type": "code",
   "execution_count": 26,
   "id": "08703d5e",
   "metadata": {},
   "outputs": [
    {
     "data": {
      "image/png": "[encoded data removed]",
      "text/plain": [
       "<Figure size 640x480 with 1 Axes>"
      ]
     },
     "metadata": {
      "image/png": {
       "height": 413,
       "width": 556
      }
     },
     "output_type": "display_data"
    }
   ],
   "source": [
    "plt.plot(losses)\n",
    "plt.show()"
   ]
  },
  {
   "cell_type": "markdown",
   "id": "5b8ddaed",
   "metadata": {},
   "source": [
    "#### Testing: cf MAML"
   ]
  },
  {
   "cell_type": "code",
   "execution_count": 27,
   "id": "292710ce",
   "metadata": {},
   "outputs": [
    {
     "name": "stdout",
     "output_type": "stream",
     "text": [
      "torch.sum(mse).item()=139.77227783203125\n",
      "torch.sum(mse).item()=25.07001304626465\n",
      "torch.sum(mse).item()=5.946689605712891\n",
      "torch.sum(mse).item()=2.3061275482177734\n",
      "torch.sum(mse).item()=1.3611867427825928\n",
      "torch.sum(mse).item()=1.0233421325683594\n",
      "torch.sum(mse).item()=0.883418083190918\n",
      "torch.sum(mse).item()=0.8118655681610107\n",
      "torch.sum(mse).item()=0.7719665169715881\n",
      "torch.sum(mse).item()=0.7486352324485779\n",
      "torch.sum(mse).item()=0.7354058027267456\n",
      "torch.sum(mse).item()=0.7274323105812073\n",
      "torch.sum(mse).item()=0.7222334146499634\n",
      "torch.sum(mse).item()=0.7185159921646118\n",
      "torch.sum(mse).item()=0.7156493067741394\n",
      "torch.sum(mse).item()=0.7132574319839478\n",
      "torch.sum(mse).item()=0.7111337780952454\n",
      "torch.sum(mse).item()=0.7091652154922485\n",
      "torch.sum(mse).item()=0.7072871923446655\n",
      "torch.sum(mse).item()=0.7054641842842102\n",
      "torch.sum(mse).item()=0.7036758065223694\n",
      "torch.sum(mse).item()=0.7019109725952148\n",
      "torch.sum(mse).item()=0.7001653909683228\n",
      "torch.sum(mse).item()=0.6984320282936096\n",
      "torch.sum(mse).item()=0.696711540222168\n",
      "torch.sum(mse).item()=0.6950018405914307\n",
      "torch.sum(mse).item()=0.6933019161224365\n",
      "torch.sum(mse).item()=0.6916113495826721\n",
      "torch.sum(mse).item()=0.6899282336235046\n",
      "torch.sum(mse).item()=0.688247799873352\n",
      "torch.sum(mse).item()=0.6865150332450867\n",
      "torch.sum(mse).item()=0.6848267316818237\n",
      "torch.sum(mse).item()=0.6831558346748352\n",
      "torch.sum(mse).item()=0.6814945936203003\n",
      "torch.sum(mse).item()=0.6798117160797119\n",
      "torch.sum(mse).item()=0.6779175400733948\n",
      "torch.sum(mse).item()=0.6760715246200562\n",
      "torch.sum(mse).item()=0.6742563843727112\n",
      "torch.sum(mse).item()=0.6724616885185242\n",
      "torch.sum(mse).item()=0.6706855297088623\n",
      "torch.sum(mse).item()=0.6689198613166809\n",
      "torch.sum(mse).item()=0.6671582460403442\n",
      "torch.sum(mse).item()=0.6652318239212036\n",
      "torch.sum(mse).item()=0.6633539795875549\n",
      "torch.sum(mse).item()=0.6614988446235657\n",
      "torch.sum(mse).item()=0.659653902053833\n",
      "torch.sum(mse).item()=0.6578294634819031\n",
      "torch.sum(mse).item()=0.6560165882110596\n",
      "torch.sum(mse).item()=0.6541936993598938\n",
      "torch.sum(mse).item()=0.6523894667625427\n",
      "torch.sum(mse).item()=0.6505407094955444\n",
      "torch.sum(mse).item()=0.6487202644348145\n",
      "torch.sum(mse).item()=0.6469074487686157\n",
      "torch.sum(mse).item()=0.6451084613800049\n",
      "torch.sum(mse).item()=0.6433223485946655\n",
      "torch.sum(mse).item()=0.6415400505065918\n",
      "torch.sum(mse).item()=0.6397671699523926\n",
      "torch.sum(mse).item()=0.637994110584259\n",
      "torch.sum(mse).item()=0.6362306475639343\n",
      "torch.sum(mse).item()=0.6344764232635498\n",
      "torch.sum(mse).item()=0.6327259540557861\n",
      "torch.sum(mse).item()=0.6309165358543396\n",
      "torch.sum(mse).item()=0.6291508078575134\n",
      "torch.sum(mse).item()=0.6274040937423706\n",
      "torch.sum(mse).item()=0.625663161277771\n",
      "torch.sum(mse).item()=0.6239610314369202\n",
      "torch.sum(mse).item()=0.6221736073493958\n",
      "torch.sum(mse).item()=0.6201782822608948\n",
      "torch.sum(mse).item()=0.6182928681373596\n",
      "torch.sum(mse).item()=0.6163911819458008\n",
      "torch.sum(mse).item()=0.6145471334457397\n",
      "torch.sum(mse).item()=0.6127066612243652\n",
      "torch.sum(mse).item()=0.6108710169792175\n",
      "torch.sum(mse).item()=0.6090941429138184\n",
      "torch.sum(mse).item()=0.6072827577590942\n",
      "torch.sum(mse).item()=0.6055005192756653\n",
      "torch.sum(mse).item()=0.6037457585334778\n",
      "torch.sum(mse).item()=0.6020050048828125\n",
      "torch.sum(mse).item()=0.6002498865127563\n",
      "torch.sum(mse).item()=0.5985159277915955\n",
      "torch.sum(mse).item()=0.596797525882721\n",
      "torch.sum(mse).item()=0.5950901508331299\n",
      "torch.sum(mse).item()=0.5933922529220581\n",
      "torch.sum(mse).item()=0.5917065739631653\n",
      "torch.sum(mse).item()=0.5900300741195679\n",
      "torch.sum(mse).item()=0.5883647799491882\n",
      "torch.sum(mse).item()=0.5867078304290771\n",
      "torch.sum(mse).item()=0.5850518345832825\n",
      "torch.sum(mse).item()=0.5833278894424438\n",
      "torch.sum(mse).item()=0.5815334320068359\n",
      "torch.sum(mse).item()=0.5797967910766602\n",
      "torch.sum(mse).item()=0.5780420303344727\n",
      "torch.sum(mse).item()=0.5763155817985535\n",
      "torch.sum(mse).item()=0.5746035575866699\n",
      "torch.sum(mse).item()=0.572904646396637\n",
      "torch.sum(mse).item()=0.5712159872055054\n",
      "torch.sum(mse).item()=0.5695387721061707\n",
      "torch.sum(mse).item()=0.5678685307502747\n",
      "torch.sum(mse).item()=0.5661704540252686\n",
      "torch.sum(mse).item()=0.5644895434379578\n"
     ]
    },
    {
     "ename": "AssertionError",
     "evalue": "",
     "output_type": "error",
     "traceback": [
      "\u001b[0;31m---------------------------------------------------------------------------\u001b[0m",
      "\u001b[0;31mAssertionError\u001b[0m                            Traceback (most recent call last)",
      "Cell \u001b[0;32mIn[27], line 42\u001b[0m\n\u001b[1;32m     39\u001b[0m \u001b[38;5;28;01massert\u001b[39;00m z\u001b[38;5;241m.\u001b[39mshape \u001b[38;5;241m==\u001b[39m (d_latent,)\n\u001b[1;32m     41\u001b[0m \u001b[38;5;66;03m# Evaluate MSE loss of z on the query set\u001b[39;00m\n\u001b[0;32m---> 42\u001b[0m \u001b[38;5;28;01massert\u001b[39;00m query_xs\u001b[38;5;241m.\u001b[39mshape \u001b[38;5;241m==\u001b[39m (test_batch_size, n_query_samples_per_task, \u001b[38;5;241m1\u001b[39m)\n\u001b[1;32m     43\u001b[0m \u001b[38;5;28;01massert\u001b[39;00m query_xs\u001b[38;5;241m.\u001b[39msqueeze(\u001b[38;5;241m0\u001b[39m)\u001b[38;5;241m.\u001b[39mshape \u001b[38;5;241m==\u001b[39m (test_batch_size \u001b[38;5;241m*\u001b[39m n_query_samples_per_task, \u001b[38;5;241m1\u001b[39m)\n\u001b[1;32m     44\u001b[0m query_ys_pred \u001b[38;5;241m=\u001b[39m lpn\u001b[38;5;241m.\u001b[39mdecode(z, query_xs\u001b[38;5;241m.\u001b[39msqueeze(\u001b[38;5;241m0\u001b[39m)\u001b[38;5;241m.\u001b[39mto(device))\n",
      "\u001b[0;31mAssertionError\u001b[0m: "
     ]
    }
   ],
   "source": [
    "n_test_points = 60\n",
    "test_batch_size = 1\n",
    "n_test_samples_per_task = 20\n",
    "n_support_samples_per_task = 10\n",
    "n_query_samples_per_task = n_test_samples_per_task - n_support_samples_per_task\n",
    "\n",
    "test_numstep = 100\n",
    "\n",
    "data_gen = SineDataGenerator(n_test_samples_per_task, test_batch_size)\n",
    "\n",
    "np.random.seed(1)\n",
    "random.seed(1)\n",
    "\n",
    "metaeval_losses = np.full((n_test_points, test_numstep + 1), np.nan)\n",
    "\n",
    "for i_test_task in range(n_test_points):\n",
    "    support_xs, support_ys, query_xs, query_ys, amp, phase = \\\n",
    "    generate_extrapolation_batch(data_gen,\n",
    "                                 n_support=n_support_samples_per_task,\n",
    "                                 n_query=n_query_samples_per_task)\n",
    "\n",
    "\n",
    "    support_pairs = torch.cat([support_xs, support_ys], dim=-1).to(device)  # (B, N, 2)\n",
    "    aux_t, loss_t = lpn(support_pairs, K=test_numstep, debug=True, deterministic=True)\n",
    "\n",
    "    y_pred = aux_t[\"ys_pred\"].detach().cpu().numpy()\n",
    "    z_mu = aux_t[\"z_mu\"]\n",
    "    z_logvar = aux_t[\"z_logvar\"]\n",
    "    # z_sample = aux_t[\"z_sample\"].detach()\n",
    "    # z_prime = aux_t[\"z_prime\"].detach()\n",
    "    z_traj = aux_t[\"z_traj\"]\n",
    "\n",
    "    z_sample = z_traj[0]\n",
    "    z_prime = z_traj[-1]\n",
    "\n",
    "    assert len(z_traj) == test_numstep + 1\n",
    "    for i_step, z in enumerate(z_traj):\n",
    "        z = z.mean(dim=1).squeeze(0)  # (d_latent,)\n",
    "        assert z.shape == (d_latent,)\n",
    "\n",
    "        # Evaluate MSE loss of z on the query set\n",
    "        assert query_xs.shape == (test_batch_size, n_query_samples_per_task, 1)\n",
    "        assert query_xs.squeeze(0).shape == (test_batch_size * n_query_samples_per_task, 1)\n",
    "        query_ys_pred = lpn.decode(z, query_xs.squeeze(0).to(device))\n",
    "        assert query_ys_pred.shape == (test_batch_size * n_query_samples_per_task, 1)\n",
    "        mse = nn.functional.mse_loss(query_ys_pred, query_ys.to(device), reduction='sum')\n",
    "        metaeval_losses[i_test_task, i_step] = mse.item()\n",
    "\n"
   ]
  },
  {
   "cell_type": "code",
   "execution_count": 28,
   "id": "19cd6d8b",
   "metadata": {},
   "outputs": [
    {
     "name": "stdout",
     "output_type": "stream",
     "text": [
      "torch.Size([1, 10, 4])\n",
      "torch.Size([1, 10, 4])\n",
      "torch.Size([1, 10, 4])\n",
      "torch.Size([1, 10, 4])\n",
      "torch.Size([1, 10, 4])\n",
      "torch.Size([1, 10, 4])\n",
      "torch.Size([1, 10, 4])\n",
      "torch.Size([1, 10, 4])\n",
      "torch.Size([1, 10, 4])\n",
      "torch.Size([1, 10, 4])\n",
      "torch.Size([1, 10, 4])\n",
      "torch.Size([1, 10, 4])\n",
      "torch.Size([1, 10, 4])\n",
      "torch.Size([1, 10, 4])\n",
      "torch.Size([1, 10, 4])\n",
      "torch.Size([1, 10, 4])\n",
      "torch.Size([1, 10, 4])\n",
      "torch.Size([1, 10, 4])\n",
      "torch.Size([1, 10, 4])\n",
      "torch.Size([1, 10, 4])\n",
      "torch.Size([1, 10, 4])\n",
      "torch.Size([1, 10, 4])\n",
      "torch.Size([1, 10, 4])\n",
      "torch.Size([1, 10, 4])\n",
      "torch.Size([1, 10, 4])\n",
      "torch.Size([1, 10, 4])\n",
      "torch.Size([1, 10, 4])\n",
      "torch.Size([1, 10, 4])\n",
      "torch.Size([1, 10, 4])\n",
      "torch.Size([1, 10, 4])\n",
      "torch.Size([1, 10, 4])\n",
      "torch.Size([1, 10, 4])\n",
      "torch.Size([1, 10, 4])\n",
      "torch.Size([1, 10, 4])\n",
      "torch.Size([1, 10, 4])\n",
      "torch.Size([1, 10, 4])\n",
      "torch.Size([1, 10, 4])\n",
      "torch.Size([1, 10, 4])\n",
      "torch.Size([1, 10, 4])\n",
      "torch.Size([1, 10, 4])\n",
      "torch.Size([1, 10, 4])\n",
      "torch.Size([1, 10, 4])\n",
      "torch.Size([1, 10, 4])\n",
      "torch.Size([1, 10, 4])\n",
      "torch.Size([1, 10, 4])\n",
      "torch.Size([1, 10, 4])\n",
      "torch.Size([1, 10, 4])\n",
      "torch.Size([1, 10, 4])\n",
      "torch.Size([1, 10, 4])\n",
      "torch.Size([1, 10, 4])\n",
      "torch.Size([1, 10, 4])\n",
      "torch.Size([1, 10, 4])\n",
      "torch.Size([1, 10, 4])\n",
      "torch.Size([1, 10, 4])\n",
      "torch.Size([1, 10, 4])\n",
      "torch.Size([1, 10, 4])\n",
      "torch.Size([1, 10, 4])\n",
      "torch.Size([1, 10, 4])\n",
      "torch.Size([1, 10, 4])\n",
      "torch.Size([1, 10, 4])\n",
      "torch.Size([1, 10, 4])\n",
      "torch.Size([1, 10, 4])\n",
      "torch.Size([1, 10, 4])\n",
      "torch.Size([1, 10, 4])\n",
      "torch.Size([1, 10, 4])\n",
      "torch.Size([1, 10, 4])\n",
      "torch.Size([1, 10, 4])\n",
      "torch.Size([1, 10, 4])\n",
      "torch.Size([1, 10, 4])\n",
      "torch.Size([1, 10, 4])\n",
      "torch.Size([1, 10, 4])\n",
      "torch.Size([1, 10, 4])\n",
      "torch.Size([1, 10, 4])\n",
      "torch.Size([1, 10, 4])\n",
      "torch.Size([1, 10, 4])\n",
      "torch.Size([1, 10, 4])\n",
      "torch.Size([1, 10, 4])\n",
      "torch.Size([1, 10, 4])\n",
      "torch.Size([1, 10, 4])\n",
      "torch.Size([1, 10, 4])\n",
      "torch.Size([1, 10, 4])\n",
      "torch.Size([1, 10, 4])\n",
      "torch.Size([1, 10, 4])\n",
      "torch.Size([1, 10, 4])\n",
      "torch.Size([1, 10, 4])\n",
      "torch.Size([1, 10, 4])\n",
      "torch.Size([1, 10, 4])\n",
      "torch.Size([1, 10, 4])\n",
      "torch.Size([1, 10, 4])\n",
      "torch.Size([1, 10, 4])\n",
      "torch.Size([1, 10, 4])\n",
      "torch.Size([1, 10, 4])\n",
      "torch.Size([1, 10, 4])\n",
      "torch.Size([1, 10, 4])\n",
      "torch.Size([1, 10, 4])\n",
      "torch.Size([1, 10, 4])\n",
      "torch.Size([1, 10, 4])\n",
      "torch.Size([1, 10, 4])\n",
      "torch.Size([1, 10, 4])\n",
      "torch.Size([1, 10, 4])\n",
      "torch.Size([1, 10, 4])\n"
     ]
    }
   ],
   "source": [
    "for z in z_traj:\n",
    "    print(z.shape)"
   ]
  },
  {
   "cell_type": "markdown",
   "id": "d0ec7fa4",
   "metadata": {},
   "source": [
    "### Save/reload weights"
   ]
  },
  {
   "cell_type": "code",
   "execution_count": 33,
   "id": "5f29c733",
   "metadata": {},
   "outputs": [],
   "source": [
    "torch.save(lpn.state_dict(), f'lpn_H{d_latent}_GA{numstep}_cmp.pth')"
   ]
  },
  {
   "cell_type": "code",
   "execution_count": 34,
   "id": "364c83c4",
   "metadata": {},
   "outputs": [
    {
     "data": {
      "text/plain": [
       "<All keys matched successfully>"
      ]
     },
     "execution_count": 34,
     "metadata": {},
     "output_type": "execute_result"
    }
   ],
   "source": [
    "lpn = LPN(d_input=1,\n",
    "          d_output=1,\n",
    "          d_latent=d_latent,\n",
    "          encoder=encoder,\n",
    "          decoder=decoder).to(device)\n",
    "state_dict = torch.load(f'lpn_H{d_latent}_GA{numstep}_cmp.pth')\n",
    "lpn.load_state_dict(state_dict, strict=False)"
   ]
  },
  {
   "cell_type": "markdown",
   "id": "bb43c0b5",
   "metadata": {},
   "source": [
    "### Micro-validation"
   ]
  },
  {
   "cell_type": "code",
   "execution_count": 35,
   "id": "133ccaae",
   "metadata": {},
   "outputs": [
    {
     "data": {
      "text/plain": [
       "torch.Size([1, 10, 1])"
      ]
     },
     "execution_count": 35,
     "metadata": {},
     "output_type": "execute_result"
    }
   ],
   "source": [
    "# one batch, 10 examples\n",
    "test_xs, test_ys, amp, phase = SineDataGenerator(10, 1).generate()\n",
    "\n",
    "amp = amp.item()\n",
    "phase = phase.item()\n",
    "\n",
    "test_xs.shape"
   ]
  },
  {
   "cell_type": "code",
   "execution_count": 36,
   "id": "5a829064",
   "metadata": {},
   "outputs": [
    {
     "name": "stdout",
     "output_type": "stream",
     "text": [
      "torch.sum(mse).item()=7.008338928222656\n",
      "torch.sum(mse).item()=4.987065315246582\n",
      "torch.sum(mse).item()=3.7939600944519043\n",
      "torch.sum(mse).item()=3.0084612369537354\n",
      "torch.sum(mse).item()=2.4665985107421875\n",
      "torch.sum(mse).item()=2.083646535873413\n",
      "torch.sum(mse).item()=1.7991777658462524\n",
      "torch.sum(mse).item()=1.5888630151748657\n",
      "torch.sum(mse).item()=1.4334555864334106\n",
      "torch.sum(mse).item()=1.315987467765808\n",
      "torch.sum(mse).item()=1.2238578796386719\n",
      "torch.sum(mse).item()=1.155646562576294\n",
      "torch.sum(mse).item()=1.1048599481582642\n",
      "torch.sum(mse).item()=1.0668895244598389\n",
      "torch.sum(mse).item()=1.038375973701477\n",
      "torch.sum(mse).item()=1.0168694257736206\n",
      "torch.sum(mse).item()=1.0005407333374023\n",
      "torch.sum(mse).item()=0.9879241585731506\n",
      "torch.sum(mse).item()=0.9780514240264893\n",
      "torch.sum(mse).item()=0.9704204797744751\n",
      "torch.sum(mse).item()=0.9644522070884705\n",
      "torch.sum(mse).item()=0.9597179889678955\n",
      "torch.sum(mse).item()=0.9558994770050049\n",
      "torch.sum(mse).item()=0.9527671933174133\n",
      "torch.sum(mse).item()=0.9501399993896484\n",
      "torch.sum(mse).item()=0.947894811630249\n",
      "torch.sum(mse).item()=0.9459354281425476\n",
      "torch.sum(mse).item()=0.9441911578178406\n",
      "torch.sum(mse).item()=0.9426076412200928\n",
      "torch.sum(mse).item()=0.9411487579345703\n",
      "torch.sum(mse).item()=0.9397508502006531\n",
      "torch.sum(mse).item()=0.9383708834648132\n",
      "torch.sum(mse).item()=0.9370664358139038\n",
      "torch.sum(mse).item()=0.9358209371566772\n",
      "torch.sum(mse).item()=0.9346114993095398\n",
      "torch.sum(mse).item()=0.9334131479263306\n",
      "torch.sum(mse).item()=0.9322530627250671\n",
      "torch.sum(mse).item()=0.9311193227767944\n",
      "torch.sum(mse).item()=0.9300085306167603\n",
      "torch.sum(mse).item()=0.9289155602455139\n",
      "torch.sum(mse).item()=0.9278392195701599\n",
      "torch.sum(mse).item()=0.9267781972885132\n",
      "torch.sum(mse).item()=0.9257292747497559\n",
      "torch.sum(mse).item()=0.9246900677680969\n",
      "torch.sum(mse).item()=0.9236635565757751\n",
      "torch.sum(mse).item()=0.9226460456848145\n",
      "torch.sum(mse).item()=0.9216387271881104\n",
      "torch.sum(mse).item()=0.9206413626670837\n",
      "torch.sum(mse).item()=0.9196519255638123\n",
      "torch.sum(mse).item()=0.9186729788780212\n",
      "torch.sum(mse).item()=0.9177030920982361\n",
      "torch.sum(mse).item()=0.9167386293411255\n",
      "torch.sum(mse).item()=0.9157850742340088\n",
      "torch.sum(mse).item()=0.9148397445678711\n",
      "torch.sum(mse).item()=0.9139025211334229\n",
      "torch.sum(mse).item()=0.9129728078842163\n",
      "torch.sum(mse).item()=0.9120506644248962\n",
      "torch.sum(mse).item()=0.9111382961273193\n",
      "torch.sum(mse).item()=0.9102317094802856\n",
      "torch.sum(mse).item()=0.9093334078788757\n",
      "torch.sum(mse).item()=0.9084432125091553\n",
      "torch.sum(mse).item()=0.9075589776039124\n",
      "torch.sum(mse).item()=0.9066831469535828\n",
      "torch.sum(mse).item()=0.9058161973953247\n",
      "torch.sum(mse).item()=0.9049568772315979\n",
      "torch.sum(mse).item()=0.9041016101837158\n",
      "torch.sum(mse).item()=0.9032557010650635\n",
      "torch.sum(mse).item()=0.9024162292480469\n",
      "torch.sum(mse).item()=0.9015849232673645\n",
      "torch.sum(mse).item()=0.9007585644721985\n",
      "torch.sum(mse).item()=0.8999406099319458\n",
      "torch.sum(mse).item()=0.8991308212280273\n",
      "torch.sum(mse).item()=0.8983254432678223\n",
      "torch.sum(mse).item()=0.8975269198417664\n",
      "torch.sum(mse).item()=0.8967361450195312\n",
      "torch.sum(mse).item()=0.8959519863128662\n",
      "torch.sum(mse).item()=0.8951740860939026\n",
      "torch.sum(mse).item()=0.894403338432312\n",
      "torch.sum(mse).item()=0.8936380743980408\n",
      "torch.sum(mse).item()=0.892880916595459\n",
      "torch.sum(mse).item()=0.8921279311180115\n",
      "torch.sum(mse).item()=0.8913824558258057\n",
      "torch.sum(mse).item()=0.8906431794166565\n",
      "torch.sum(mse).item()=0.8899084329605103\n",
      "torch.sum(mse).item()=0.8891817331314087\n",
      "torch.sum(mse).item()=0.8884607553482056\n",
      "torch.sum(mse).item()=0.88774573802948\n",
      "torch.sum(mse).item()=0.8870372772216797\n",
      "torch.sum(mse).item()=0.8863331079483032\n",
      "torch.sum(mse).item()=0.8856345415115356\n",
      "torch.sum(mse).item()=0.8849443197250366\n",
      "torch.sum(mse).item()=0.8842577934265137\n",
      "torch.sum(mse).item()=0.8835774064064026\n",
      "torch.sum(mse).item()=0.8829023838043213\n",
      "torch.sum(mse).item()=0.8822338581085205\n",
      "torch.sum(mse).item()=0.8815706372261047\n",
      "torch.sum(mse).item()=0.8809123635292053\n",
      "torch.sum(mse).item()=0.8802610635757446\n",
      "torch.sum(mse).item()=0.8796138763427734\n",
      "torch.sum(mse).item()=0.8789702653884888\n",
      "torch.sum(mse).item()=0.8783336877822876\n",
      "torch.sum(mse).item()=0.8777039647102356\n",
      "torch.sum(mse).item()=0.8770780563354492\n",
      "torch.sum(mse).item()=0.876456618309021\n",
      "torch.sum(mse).item()=0.8758407831192017\n",
      "torch.sum(mse).item()=0.8752302527427673\n",
      "torch.sum(mse).item()=0.8746254444122314\n",
      "torch.sum(mse).item()=0.8740240931510925\n",
      "torch.sum(mse).item()=0.8734275698661804\n",
      "torch.sum(mse).item()=0.8728362321853638\n",
      "torch.sum(mse).item()=0.8722516298294067\n",
      "torch.sum(mse).item()=0.871670126914978\n",
      "torch.sum(mse).item()=0.8710935711860657\n",
      "torch.sum(mse).item()=0.8705210089683533\n",
      "torch.sum(mse).item()=0.8699541091918945\n",
      "torch.sum(mse).item()=0.8693928122520447\n",
      "torch.sum(mse).item()=0.8688337206840515\n",
      "torch.sum(mse).item()=0.8682806491851807\n",
      "torch.sum(mse).item()=0.8677313327789307\n",
      "torch.sum(mse).item()=0.8671866655349731\n",
      "torch.sum(mse).item()=0.8666470646858215\n",
      "torch.sum(mse).item()=0.8661105036735535\n",
      "torch.sum(mse).item()=0.8655802607536316\n",
      "torch.sum(mse).item()=0.8650525808334351\n",
      "torch.sum(mse).item()=0.8645290732383728\n",
      "torch.sum(mse).item()=0.8640109300613403\n",
      "torch.sum(mse).item()=0.8634979128837585\n",
      "torch.sum(mse).item()=0.8629874587059021\n",
      "torch.sum(mse).item()=0.8624826669692993\n",
      "torch.sum(mse).item()=0.8619813323020935\n",
      "torch.sum(mse).item()=0.8614838123321533\n",
      "torch.sum(mse).item()=0.8609907627105713\n",
      "torch.sum(mse).item()=0.8604992628097534\n",
      "torch.sum(mse).item()=0.860014796257019\n",
      "torch.sum(mse).item()=0.8595321774482727\n",
      "torch.sum(mse).item()=0.8590549826622009\n",
      "torch.sum(mse).item()=0.8585820198059082\n",
      "torch.sum(mse).item()=0.8581110835075378\n",
      "torch.sum(mse).item()=0.8576447367668152\n",
      "torch.sum(mse).item()=0.8571813702583313\n",
      "torch.sum(mse).item()=0.8567230105400085\n",
      "torch.sum(mse).item()=0.8562674522399902\n",
      "torch.sum(mse).item()=0.8558160662651062\n",
      "torch.sum(mse).item()=0.8553682565689087\n",
      "torch.sum(mse).item()=0.8549239635467529\n",
      "torch.sum(mse).item()=0.8544811010360718\n",
      "torch.sum(mse).item()=0.8540456295013428\n",
      "torch.sum(mse).item()=0.8536122441291809\n",
      "torch.sum(mse).item()=0.8531811237335205\n",
      "torch.sum(mse).item()=0.8527541756629944\n",
      "torch.sum(mse).item()=0.8523297309875488\n",
      "torch.sum(mse).item()=0.8519105315208435\n",
      "torch.sum(mse).item()=0.8514940142631531\n",
      "torch.sum(mse).item()=0.8510801792144775\n",
      "torch.sum(mse).item()=0.8506695032119751\n",
      "torch.sum(mse).item()=0.8502628207206726\n",
      "torch.sum(mse).item()=0.8498582243919373\n",
      "torch.sum(mse).item()=0.8494585752487183\n",
      "torch.sum(mse).item()=0.8490580320358276\n",
      "torch.sum(mse).item()=0.8486658930778503\n",
      "torch.sum(mse).item()=0.8482738733291626\n",
      "torch.sum(mse).item()=0.8478860855102539\n",
      "torch.sum(mse).item()=0.8475003838539124\n",
      "torch.sum(mse).item()=0.8471187949180603\n",
      "torch.sum(mse).item()=0.8467380404472351\n",
      "torch.sum(mse).item()=0.8463616371154785\n",
      "torch.sum(mse).item()=0.8459754586219788\n",
      "torch.sum(mse).item()=0.8455941677093506\n",
      "torch.sum(mse).item()=0.8452166318893433\n",
      "torch.sum(mse).item()=0.8448446989059448\n",
      "torch.sum(mse).item()=0.8444743752479553\n",
      "torch.sum(mse).item()=0.8441055417060852\n",
      "torch.sum(mse).item()=0.8437414765357971\n",
      "torch.sum(mse).item()=0.8433791399002075\n",
      "torch.sum(mse).item()=0.8430199027061462\n",
      "torch.sum(mse).item()=0.8426644802093506\n",
      "torch.sum(mse).item()=0.8423101902008057\n",
      "torch.sum(mse).item()=0.841960608959198\n",
      "torch.sum(mse).item()=0.841610848903656\n",
      "torch.sum(mse).item()=0.8412656188011169\n",
      "torch.sum(mse).item()=0.840923011302948\n",
      "torch.sum(mse).item()=0.840583324432373\n",
      "torch.sum(mse).item()=0.8402448296546936\n",
      "torch.sum(mse).item()=0.8399101495742798\n",
      "torch.sum(mse).item()=0.839576244354248\n",
      "torch.sum(mse).item()=0.8392454981803894\n",
      "torch.sum(mse).item()=0.8389171361923218\n",
      "torch.sum(mse).item()=0.838592529296875\n",
      "torch.sum(mse).item()=0.8382695317268372\n",
      "torch.sum(mse).item()=0.8379479646682739\n",
      "torch.sum(mse).item()=0.8376291394233704\n",
      "torch.sum(mse).item()=0.8373132348060608\n",
      "torch.sum(mse).item()=0.8369995951652527\n",
      "torch.sum(mse).item()=0.8366872072219849\n",
      "torch.sum(mse).item()=0.8363791108131409\n",
      "torch.sum(mse).item()=0.8360722661018372\n",
      "torch.sum(mse).item()=0.835766613483429\n",
      "torch.sum(mse).item()=0.8354662656784058\n",
      "torch.sum(mse).item()=0.8351643085479736\n",
      "torch.sum(mse).item()=0.8348672389984131\n"
     ]
    }
   ],
   "source": [
    "io_pairs_t = torch.cat([test_xs, test_ys], dim=-1).to(device)  # (B, N, 2)\n",
    "aux_t, loss_t = lpn(io_pairs_t, K=200, debug=True, deterministic=True)\n",
    "\n",
    "y_pred = aux_t[\"ys_pred\"].detach().cpu().numpy()\n",
    "z_mu = aux_t[\"z_mu\"].detach()\n",
    "z_logvar = aux_t[\"z_logvar\"].detach()\n",
    "z_sample = aux_t[\"z_sample\"].detach()\n",
    "z_prime = aux_t[\"z_prime\"].detach()"
   ]
  },
  {
   "cell_type": "code",
   "execution_count": 29,
   "id": "5a54258e",
   "metadata": {},
   "outputs": [
    {
     "name": "stdout",
     "output_type": "stream",
     "text": [
      "torch.sum(mse).item()=91.84468078613281\n",
      "torch.sum(mse).item()=27.932689666748047\n",
      "torch.sum(mse).item()=9.887468338012695\n",
      "torch.sum(mse).item()=4.60288143157959\n",
      "torch.sum(mse).item()=2.420518159866333\n",
      "torch.sum(mse).item()=1.4942150115966797\n",
      "torch.sum(mse).item()=1.0507981777191162\n",
      "torch.sum(mse).item()=0.8174475431442261\n",
      "torch.sum(mse).item()=0.6849365234375\n",
      "torch.sum(mse).item()=0.6033226251602173\n",
      "torch.sum(mse).item()=0.5514163970947266\n",
      "torch.sum(mse).item()=0.5168732404708862\n",
      "torch.sum(mse).item()=0.49223020672798157\n",
      "torch.sum(mse).item()=0.47473543882369995\n",
      "torch.sum(mse).item()=0.4625629782676697\n",
      "torch.sum(mse).item()=0.4532262086868286\n",
      "torch.sum(mse).item()=0.44650644063949585\n",
      "torch.sum(mse).item()=0.44158005714416504\n",
      "torch.sum(mse).item()=0.43796801567077637\n",
      "torch.sum(mse).item()=0.43524765968322754\n",
      "torch.sum(mse).item()=0.43307849764823914\n",
      "torch.sum(mse).item()=0.4313476085662842\n",
      "torch.sum(mse).item()=0.4298558831214905\n",
      "torch.sum(mse).item()=0.4285714626312256\n",
      "torch.sum(mse).item()=0.42741304636001587\n",
      "torch.sum(mse).item()=0.4263318181037903\n",
      "torch.sum(mse).item()=0.42534756660461426\n",
      "torch.sum(mse).item()=0.42437320947647095\n",
      "torch.sum(mse).item()=0.4234507977962494\n",
      "torch.sum(mse).item()=0.4225669503211975\n",
      "torch.sum(mse).item()=0.4216746389865875\n",
      "torch.sum(mse).item()=0.420808345079422\n",
      "torch.sum(mse).item()=0.4199543595314026\n",
      "torch.sum(mse).item()=0.4191123843193054\n",
      "torch.sum(mse).item()=0.4182782471179962\n",
      "torch.sum(mse).item()=0.41745126247406006\n",
      "torch.sum(mse).item()=0.41662973165512085\n",
      "torch.sum(mse).item()=0.4158130884170532\n",
      "torch.sum(mse).item()=0.41500183939933777\n",
      "torch.sum(mse).item()=0.41419416666030884\n",
      "torch.sum(mse).item()=0.41339120268821716\n",
      "torch.sum(mse).item()=0.41259270906448364\n",
      "torch.sum(mse).item()=0.41179150342941284\n",
      "torch.sum(mse).item()=0.4109875559806824\n",
      "torch.sum(mse).item()=0.41018664836883545\n",
      "torch.sum(mse).item()=0.4093893766403198\n",
      "torch.sum(mse).item()=0.40859535336494446\n",
      "torch.sum(mse).item()=0.40780362486839294\n",
      "torch.sum(mse).item()=0.4070151150226593\n",
      "torch.sum(mse).item()=0.40622812509536743\n",
      "torch.sum(mse).item()=0.4054453372955322\n",
      "torch.sum(mse).item()=0.4046638607978821\n",
      "torch.sum(mse).item()=0.4038868844509125\n",
      "torch.sum(mse).item()=0.4031129479408264\n",
      "torch.sum(mse).item()=0.40234073996543884\n",
      "torch.sum(mse).item()=0.4015715420246124\n",
      "torch.sum(mse).item()=0.40080469846725464\n",
      "torch.sum(mse).item()=0.4000416100025177\n",
      "torch.sum(mse).item()=0.3992794156074524\n",
      "torch.sum(mse).item()=0.3985198140144348\n",
      "torch.sum(mse).item()=0.3977644145488739\n",
      "torch.sum(mse).item()=0.39700835943222046\n",
      "torch.sum(mse).item()=0.39620906114578247\n",
      "torch.sum(mse).item()=0.3954122066497803\n",
      "torch.sum(mse).item()=0.39461442828178406\n",
      "torch.sum(mse).item()=0.3938189446926117\n",
      "torch.sum(mse).item()=0.39302676916122437\n",
      "torch.sum(mse).item()=0.3922368884086609\n",
      "torch.sum(mse).item()=0.39144840836524963\n",
      "torch.sum(mse).item()=0.39066171646118164\n",
      "torch.sum(mse).item()=0.3898774981498718\n",
      "torch.sum(mse).item()=0.3890954852104187\n",
      "torch.sum(mse).item()=0.3883150517940521\n",
      "torch.sum(mse).item()=0.3875362277030945\n",
      "torch.sum(mse).item()=0.3867596387863159\n",
      "torch.sum(mse).item()=0.3859839141368866\n",
      "torch.sum(mse).item()=0.3851280212402344\n",
      "torch.sum(mse).item()=0.384296178817749\n",
      "torch.sum(mse).item()=0.3834749758243561\n",
      "torch.sum(mse).item()=0.3826613426208496\n",
      "torch.sum(mse).item()=0.3818492889404297\n",
      "torch.sum(mse).item()=0.38104185461997986\n",
      "torch.sum(mse).item()=0.3802373707294464\n",
      "torch.sum(mse).item()=0.3794352412223816\n",
      "torch.sum(mse).item()=0.3786349892616272\n",
      "torch.sum(mse).item()=0.37783825397491455\n",
      "torch.sum(mse).item()=0.3770425617694855\n",
      "torch.sum(mse).item()=0.37624987959861755\n",
      "torch.sum(mse).item()=0.375459223985672\n",
      "torch.sum(mse).item()=0.3746708333492279\n",
      "torch.sum(mse).item()=0.3738839328289032\n",
      "torch.sum(mse).item()=0.3730989098548889\n",
      "torch.sum(mse).item()=0.372317373752594\n",
      "torch.sum(mse).item()=0.37153705954551697\n",
      "torch.sum(mse).item()=0.3707600235939026\n",
      "torch.sum(mse).item()=0.36998340487480164\n",
      "torch.sum(mse).item()=0.3692083954811096\n",
      "torch.sum(mse).item()=0.3684377074241638\n",
      "torch.sum(mse).item()=0.3676646947860718\n",
      "torch.sum(mse).item()=0.3667982220649719\n",
      "torch.sum(mse).item()=0.36596250534057617\n",
      "torch.sum(mse).item()=0.3651415705680847\n",
      "torch.sum(mse).item()=0.3643265962600708\n",
      "torch.sum(mse).item()=0.3635164499282837\n",
      "torch.sum(mse).item()=0.36271050572395325\n",
      "torch.sum(mse).item()=0.36190664768218994\n",
      "torch.sum(mse).item()=0.3611066937446594\n",
      "torch.sum(mse).item()=0.36030855774879456\n",
      "torch.sum(mse).item()=0.3595130443572998\n",
      "torch.sum(mse).item()=0.35871967673301697\n",
      "torch.sum(mse).item()=0.3579293191432953\n",
      "torch.sum(mse).item()=0.3571408689022064\n",
      "torch.sum(mse).item()=0.3563544452190399\n",
      "torch.sum(mse).item()=0.355570524930954\n",
      "torch.sum(mse).item()=0.35478755831718445\n",
      "torch.sum(mse).item()=0.3540029525756836\n",
      "torch.sum(mse).item()=0.35322025418281555\n",
      "torch.sum(mse).item()=0.3524402379989624\n",
      "torch.sum(mse).item()=0.3516616225242615\n",
      "torch.sum(mse).item()=0.35088634490966797\n",
      "torch.sum(mse).item()=0.3501119911670685\n",
      "torch.sum(mse).item()=0.34934112429618835\n",
      "torch.sum(mse).item()=0.3485720753669739\n",
      "torch.sum(mse).item()=0.3478046655654907\n",
      "torch.sum(mse).item()=0.34704089164733887\n",
      "torch.sum(mse).item()=0.3462786078453064\n",
      "torch.sum(mse).item()=0.34551766514778137\n",
      "torch.sum(mse).item()=0.344759464263916\n",
      "torch.sum(mse).item()=0.34400346875190735\n",
      "torch.sum(mse).item()=0.34325119853019714\n",
      "torch.sum(mse).item()=0.34250128269195557\n",
      "torch.sum(mse).item()=0.3417534828186035\n",
      "torch.sum(mse).item()=0.3410085439682007\n",
      "torch.sum(mse).item()=0.340265154838562\n",
      "torch.sum(mse).item()=0.33952441811561584\n",
      "torch.sum(mse).item()=0.33878588676452637\n",
      "torch.sum(mse).item()=0.3380490839481354\n",
      "torch.sum(mse).item()=0.3373146951198578\n",
      "torch.sum(mse).item()=0.33658161759376526\n",
      "torch.sum(mse).item()=0.33585476875305176\n",
      "torch.sum(mse).item()=0.33513516187667847\n",
      "torch.sum(mse).item()=0.33441033959388733\n",
      "torch.sum(mse).item()=0.3336975872516632\n",
      "torch.sum(mse).item()=0.3329825699329376\n",
      "torch.sum(mse).item()=0.33226922154426575\n",
      "torch.sum(mse).item()=0.331561803817749\n",
      "torch.sum(mse).item()=0.33085939288139343\n",
      "torch.sum(mse).item()=0.3301592469215393\n",
      "torch.sum(mse).item()=0.3294614255428314\n",
      "torch.sum(mse).item()=0.3287649154663086\n",
      "torch.sum(mse).item()=0.328072190284729\n",
      "torch.sum(mse).item()=0.32738032937049866\n",
      "torch.sum(mse).item()=0.3266913592815399\n",
      "torch.sum(mse).item()=0.32600265741348267\n",
      "torch.sum(mse).item()=0.32531774044036865\n",
      "torch.sum(mse).item()=0.3246344327926636\n",
      "torch.sum(mse).item()=0.3239523768424988\n",
      "torch.sum(mse).item()=0.32327234745025635\n",
      "torch.sum(mse).item()=0.3225952088832855\n",
      "torch.sum(mse).item()=0.32191962003707886\n",
      "torch.sum(mse).item()=0.32124465703964233\n",
      "torch.sum(mse).item()=0.32057321071624756\n",
      "torch.sum(mse).item()=0.31990307569503784\n",
      "torch.sum(mse).item()=0.3192349672317505\n",
      "torch.sum(mse).item()=0.31856846809387207\n",
      "torch.sum(mse).item()=0.3179047107696533\n",
      "torch.sum(mse).item()=0.3172418177127838\n",
      "torch.sum(mse).item()=0.31658148765563965\n",
      "torch.sum(mse).item()=0.31592312455177307\n",
      "torch.sum(mse).item()=0.31526607275009155\n",
      "torch.sum(mse).item()=0.31461167335510254\n",
      "torch.sum(mse).item()=0.31395870447158813\n",
      "torch.sum(mse).item()=0.3133070766925812\n",
      "torch.sum(mse).item()=0.3126583397388458\n",
      "torch.sum(mse).item()=0.31201058626174927\n",
      "torch.sum(mse).item()=0.31136465072631836\n",
      "torch.sum(mse).item()=0.31072190403938293\n",
      "torch.sum(mse).item()=0.3100805878639221\n",
      "torch.sum(mse).item()=0.309451162815094\n",
      "torch.sum(mse).item()=0.3088122010231018\n",
      "torch.sum(mse).item()=0.3081868886947632\n",
      "torch.sum(mse).item()=0.30755817890167236\n",
      "torch.sum(mse).item()=0.3069305121898651\n",
      "torch.sum(mse).item()=0.30631113052368164\n",
      "torch.sum(mse).item()=0.3056940734386444\n",
      "torch.sum(mse).item()=0.3050747215747833\n",
      "torch.sum(mse).item()=0.30446040630340576\n",
      "torch.sum(mse).item()=0.3038490116596222\n",
      "torch.sum(mse).item()=0.3032391667366028\n",
      "torch.sum(mse).item()=0.3026326894760132\n",
      "torch.sum(mse).item()=0.3020281195640564\n",
      "torch.sum(mse).item()=0.3014228940010071\n",
      "torch.sum(mse).item()=0.3008212447166443\n",
      "torch.sum(mse).item()=0.3002212643623352\n",
      "torch.sum(mse).item()=0.2996227443218231\n",
      "torch.sum(mse).item()=0.29902634024620056\n",
      "torch.sum(mse).item()=0.2984311282634735\n",
      "torch.sum(mse).item()=0.297837495803833\n",
      "torch.sum(mse).item()=0.2972452938556671\n",
      "torch.sum(mse).item()=0.29665493965148926\n"
     ]
    },
    {
     "data": {
      "image/png": "[encoded data removed]",
      "text/plain": [
       "<Figure size 600x400 with 1 Axes>"
      ]
     },
     "metadata": {
      "image/png": {
       "height": 388,
       "width": 590
      }
     },
     "output_type": "display_data"
    }
   ],
   "source": [
    "import matplotlib.pyplot as plt\n",
    "\n",
    "# draw 10 support (x<0) and 10 query (x>=0)\n",
    "data_gen = SineDataGenerator(num_samples_per_class=20, batch_size=1)\n",
    "sup_xs, sup_ys, qry_xs, qry_ys, amp, phase = \\\n",
    "    generate_extrapolation_batch(data_gen, n_support=10, n_query=10)\n",
    "\n",
    "# encode & refine on support only\n",
    "support_pairs = torch.cat([sup_xs, sup_ys], dim=-1).to(device)\n",
    "aux_t, _   = lpn(support_pairs, K=200, debug=True, deterministic=True)\n",
    "z_traj     = aux_t[\"z_traj\"]\n",
    "z_final    = z_traj[-1].mean(dim=1).squeeze(0)  # your “best” latent\n",
    "\n",
    "# predict on a fine grid for plotting\n",
    "x_grid  = np.linspace(-5, 5, 200)\n",
    "x_t     = torch.Tensor(x_grid).unsqueeze(1).to(device)\n",
    "y_pred  = lpn.decode(z_final, x_t).detach().cpu().numpy().squeeze()\n",
    "\n",
    "# now plot\n",
    "plt.figure(figsize=(6,4))\n",
    "plt.plot(x_grid, amp * np.sin(x_grid - phase),\n",
    "         label='true sine', alpha=0.5)\n",
    "plt.scatter(sup_xs.numpy(), sup_ys.numpy(),\n",
    "            label='support (x<0)', marker='s', zorder=10)\n",
    "plt.scatter(qry_xs.numpy(), qry_ys.numpy(),\n",
    "            label='query (x>=0)', marker='x', zorder=10)\n",
    "plt.plot(x_grid, y_pred, '--', label='LPN extrapolation', zorder=5)\n",
    "plt.axvline(0, color='gray', linestyle=':')\n",
    "plt.xlabel('x'); plt.ylabel('y')\n",
    "plt.title('Probabilistic LPN Extrapolation')\n",
    "plt.legend()\n",
    "plt.tight_layout()\n",
    "plt.show()\n"
   ]
  },
  {
   "cell_type": "code",
   "execution_count": 38,
   "id": "cb7d9060",
   "metadata": {},
   "outputs": [
    {
     "data": {
      "text/plain": [
       "tensor([3.6262])"
      ]
     },
     "execution_count": 38,
     "metadata": {},
     "output_type": "execute_result"
    }
   ],
   "source": [
    "test_xs[0, 0]"
   ]
  },
  {
   "cell_type": "code",
   "execution_count": 39,
   "id": "0094751c",
   "metadata": {},
   "outputs": [
    {
     "data": {
      "text/plain": [
       "torch.Size([200, 1])"
      ]
     },
     "execution_count": 39,
     "metadata": {},
     "output_type": "execute_result"
    }
   ],
   "source": [
    "x_prep = torch.Tensor(x).unsqueeze(1).to(device)  # (100, 1)\n",
    "x_prep.shape"
   ]
  },
  {
   "cell_type": "code",
   "execution_count": 40,
   "id": "ec61c0b9",
   "metadata": {},
   "outputs": [
    {
     "data": {
      "text/plain": [
       "torch.Size([4])"
      ]
     },
     "execution_count": 40,
     "metadata": {},
     "output_type": "execute_result"
    }
   ],
   "source": [
    "z_sample[0, 0].shape"
   ]
  },
  {
   "cell_type": "markdown",
   "id": "b8440add",
   "metadata": {},
   "source": [
    "### [WIP] Algorithm 1: Test-Time Inference"
   ]
  },
  {
   "cell_type": "code",
   "execution_count": 41,
   "id": "b0b74b55",
   "metadata": {},
   "outputs": [],
   "source": [
    "# # Input\n",
    "# inputs, outputs_pred, amp, phase = [torch.Tensor(arr) for arr in data_gen.generate()]\n",
    "# # Context: n=10 input-output pairs (x_i, y_i)\n",
    "# ctx_inputs = inputs[:, :-1, :]\n",
    "# ctx_outputs = outputs_pred[:, :-1, :]\n",
    "# # Test input x_{n+1}\n",
    "# test_inputs = inputs[:, -1, :].unsqueeze(1)\n",
    "# test_outputs = outputs_pred[:, -1, :].unsqueeze(1)\n",
    "# number of gradient steps"
   ]
  },
  {
   "cell_type": "markdown",
   "id": "01264fc7",
   "metadata": {},
   "source": [
    "### Plotting sample tasks"
   ]
  },
  {
   "cell_type": "code",
   "execution_count": 42,
   "id": "748b58c6",
   "metadata": {},
   "outputs": [
    {
     "data": {
      "image/png": "[encoded data removed]",
      "text/plain": [
       "<Figure size 640x480 with 1 Axes>"
      ]
     },
     "metadata": {
      "image/png": {
       "height": 432,
       "width": 565
      }
     },
     "output_type": "display_data"
    }
   ],
   "source": [
    "import matplotlib.pyplot as plt\n",
    "\n",
    "# Plot each set of inputs and outputs as a separate line\n",
    "for i in range(min(2, inputs_np.shape[0])):\n",
    "    x = np.linspace(-2 * np.pi, 2 * np.pi, 100)\n",
    "    \n",
    "    # Convert PyTorch tensors to NumPy arrays\n",
    "    if torch.is_tensor(amp_np[i]):\n",
    "        amp_value = amp_np[i].detach().cpu().numpy()\n",
    "    else:\n",
    "        amp_value = amp_np[i]\n",
    "        \n",
    "    if torch.is_tensor(phase_np[i]):\n",
    "        phase_value = phase_np[i].detach().cpu().numpy()\n",
    "    else:\n",
    "        phase_value = phase_np[i]\n",
    "    \n",
    "    y = amp_value * np.sin(x - phase_value)\n",
    "    plt.plot(x, y, label=f\"ground-truth #{i}\")\n",
    "    plt.scatter(inputs_np[i], outputs_np[i], marker='s', label=f\"samples #{i}\")\n",
    "\n",
    "plt.xlabel(\"Inputs x\")\n",
    "plt.ylabel(\"Outputs y\")\n",
    "plt.legend()\n",
    "plt.show()"
   ]
  },
  {
   "cell_type": "code",
   "execution_count": 43,
   "id": "6cb1d618",
   "metadata": {},
   "outputs": [
    {
     "ename": "TypeError",
     "evalue": "unsupported operand type(s) for -: 'numpy.ndarray' and 'Tensor'",
     "output_type": "error",
     "traceback": [
      "\u001b[0;31m---------------------------------------------------------------------------\u001b[0m",
      "\u001b[0;31mTypeError\u001b[0m                                 Traceback (most recent call last)",
      "Cell \u001b[0;32mIn[43], line 6\u001b[0m\n\u001b[1;32m      4\u001b[0m \u001b[38;5;28;01mfor\u001b[39;00m i \u001b[38;5;129;01min\u001b[39;00m \u001b[38;5;28mrange\u001b[39m(\u001b[38;5;28mmin\u001b[39m(\u001b[38;5;241m2\u001b[39m, inputs_np\u001b[38;5;241m.\u001b[39mshape[\u001b[38;5;241m0\u001b[39m])):\n\u001b[1;32m      5\u001b[0m     x \u001b[38;5;241m=\u001b[39m np\u001b[38;5;241m.\u001b[39mlinspace(\u001b[38;5;241m-\u001b[39m\u001b[38;5;241m2\u001b[39m \u001b[38;5;241m*\u001b[39m np\u001b[38;5;241m.\u001b[39mpi, \u001b[38;5;241m2\u001b[39m \u001b[38;5;241m*\u001b[39m np\u001b[38;5;241m.\u001b[39mpi, \u001b[38;5;241m100\u001b[39m)\n\u001b[0;32m----> 6\u001b[0m     y \u001b[38;5;241m=\u001b[39m amp_np[i] \u001b[38;5;241m*\u001b[39m np\u001b[38;5;241m.\u001b[39msin(\u001b[43mx\u001b[49m\u001b[43m \u001b[49m\u001b[38;5;241;43m-\u001b[39;49m\u001b[43m \u001b[49m\u001b[43mphase_np\u001b[49m\u001b[43m[\u001b[49m\u001b[43mi\u001b[49m\u001b[43m]\u001b[49m)\n\u001b[1;32m      7\u001b[0m     plt\u001b[38;5;241m.\u001b[39mplot(x, y, label\u001b[38;5;241m=\u001b[39m\u001b[38;5;124mf\u001b[39m\u001b[38;5;124m\"\u001b[39m\u001b[38;5;124mground-truth #\u001b[39m\u001b[38;5;132;01m{\u001b[39;00mi\u001b[38;5;132;01m}\u001b[39;00m\u001b[38;5;124m\"\u001b[39m)\n\u001b[1;32m      8\u001b[0m     plt\u001b[38;5;241m.\u001b[39mscatter(inputs_np[i], outputs_np[i], marker\u001b[38;5;241m=\u001b[39m\u001b[38;5;124m'\u001b[39m\u001b[38;5;124ms\u001b[39m\u001b[38;5;124m'\u001b[39m, label\u001b[38;5;241m=\u001b[39m\u001b[38;5;124mf\u001b[39m\u001b[38;5;124m\"\u001b[39m\u001b[38;5;124msamples #\u001b[39m\u001b[38;5;132;01m{\u001b[39;00mi\u001b[38;5;132;01m}\u001b[39;00m\u001b[38;5;124m\"\u001b[39m)\n",
      "\u001b[0;31mTypeError\u001b[0m: unsupported operand type(s) for -: 'numpy.ndarray' and 'Tensor'"
     ]
    }
   ],
   "source": [
    "import matplotlib.pyplot as plt\n",
    "\n",
    "# Plot each set of inputs and outputs as a separate line\n",
    "for i in range(min(2, inputs_np.shape[0])):\n",
    "    x = np.linspace(-2 * np.pi, 2 * np.pi, 100)\n",
    "    y = amp_np[i] * np.sin(x - phase_np[i])\n",
    "    plt.plot(x, y, label=f\"ground-truth #{i}\")\n",
    "    plt.scatter(inputs_np[i], outputs_np[i], marker='s', label=f\"samples #{i}\")\n",
    "    # plt.plot(init_inputs[i], outputs[i], label=f\"Line {i+1}\")\n",
    "\n",
    "plt.xlabel(\"Inputs x\")\n",
    "plt.ylabel(\"Outputs y\")\n",
    "# plt.title(\"Outputs vs Inputs\")\n",
    "plt.legend()\n",
    "plt.show()"
   ]
  }
 ],
 "metadata": {
  "kernelspec": {
   "display_name": "lpn_py310",
   "language": "python",
   "name": "python3"
  },
  "language_info": {
   "codemirror_mode": {
    "name": "ipython",
    "version": 3
   },
   "file_extension": ".py",
   "mimetype": "text/x-python",
   "name": "python",
   "nbconvert_exporter": "python",
   "pygments_lexer": "ipython3",
   "version": "3.10.16"
  }
 },
 "nbformat": 4,
 "nbformat_minor": 5
}
